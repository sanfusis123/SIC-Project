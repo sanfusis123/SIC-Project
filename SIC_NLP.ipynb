{
  "nbformat": 4,
  "nbformat_minor": 0,
  "metadata": {
    "colab": {
      "provenance": []
    },
    "kernelspec": {
      "name": "python3",
      "display_name": "Python 3"
    },
    "language_info": {
      "name": "python"
    }
  },
  "cells": [
    {
      "cell_type": "markdown",
      "source": [
        "# Drug Review Machine Learning Proeject  \n",
        "\n",
        "### It is a python machine learning project . The main objective of the project  - \n",
        "> To predict the Rating of the review.\n",
        "\n",
        "> To predict the sentiment of the customer by the review.\n",
        "\n",
        "> To predict the popular condition based on the review .\n"
      ],
      "metadata": {
        "id": "jX3cW646Ixqx"
      }
    },
    {
      "cell_type": "markdown",
      "source": [
        "## About Dataset : \n",
        "\n",
        " This dataset was used for the Winter 2018 Kaggle University Club Hackathon and is now publicly available.\n",
        " Note: The types of data and recommendation based solutions provided by the contestants are purely for NLP learning purposes. They are not suitable for a real world drug recommendations solutions. \n",
        "\n",
        "dataset Link - https://www.kaggle.com/datasets/jessicali9530/kuc-hackathon-winter-2018\n",
        "\n",
        " ### Attributes :\n",
        "\n",
        "1. uniqueID: Id of the drug\n",
        "2. drugName : name of drug \n",
        "3. condition : name of condition\n",
        "4. review : patient review\n",
        "5. rating : 10 star patient rating\n",
        "6. date : date of review entry\n",
        "7. usefulCount : number of users who found review useful\n",
        "\n"
      ],
      "metadata": {
        "id": "-gG9kY2yJjNb"
      }
    },
    {
      "cell_type": "markdown",
      "source": [
        "## Importing the necessary modules "
      ],
      "metadata": {
        "id": "WHnj-z5UWUHR"
      }
    },
    {
      "cell_type": "code",
      "source": [
        "import pandas as pd\n",
        "import numpy as np\n",
        "import matplotlib.pyplot as plt\n",
        "import tensorflow as tf\n",
        "import tensorflow_hub as hub\n",
        "import seaborn as sns \n",
        "import re\n",
        "import tensorflow_hub as hub\n",
        "\n",
        "\n",
        "from sklearn.metrics import r2_score\n"
      ],
      "metadata": {
        "id": "X_z1UsXTYih2"
      },
      "execution_count": 3,
      "outputs": []
    },
    {
      "cell_type": "markdown",
      "source": [
        "### Loading the data and convert in DataFrame"
      ],
      "metadata": {
        "id": "C_3DMLN7YySu"
      }
    },
    {
      "cell_type": "markdown",
      "source": [
        "* Loading Train Data"
      ],
      "metadata": {
        "id": "w2o_bSqSa3Kt"
      }
    },
    {
      "cell_type": "code",
      "source": [
        "df1 = pd.read_csv('/content/drive/MyDrive/Colab Notebooks/drugtrain.csv' ,  usecols = ['drugName' , 'condition' , 'review' , 'rating'])"
      ],
      "metadata": {
        "id": "z98Mw0z9bFMZ"
      },
      "execution_count": 4,
      "outputs": []
    },
    {
      "cell_type": "markdown",
      "source": [
        "* Loading Test Data"
      ],
      "metadata": {
        "id": "YmGvfSx0bTyd"
      }
    },
    {
      "cell_type": "code",
      "source": [
        "df2 = pd.read_csv('/content/drive/MyDrive/Colab Notebooks/drugtest.csv' ,  usecols = ['drugName' , 'condition' , 'review' , 'rating'])"
      ],
      "metadata": {
        "id": "D9VBqgDKbbYJ"
      },
      "execution_count": 5,
      "outputs": []
    },
    {
      "cell_type": "markdown",
      "source": [
        "Joining them and  make whole data set"
      ],
      "metadata": {
        "id": "waP74DO5bfNG"
      }
    },
    {
      "cell_type": "code",
      "source": [
        "df = pd.concat([df1,df2])"
      ],
      "metadata": {
        "id": "nP0QWw-Abnzp"
      },
      "execution_count": 6,
      "outputs": []
    },
    {
      "cell_type": "code",
      "source": [
        "df.head()"
      ],
      "metadata": {
        "colab": {
          "base_uri": "https://localhost:8080/",
          "height": 206
        },
        "id": "WwPN6wKHbsQz",
        "outputId": "14118042-249e-48e7-c27a-94398c4e3f8b"
      },
      "execution_count": 7,
      "outputs": [
        {
          "output_type": "execute_result",
          "data": {
            "text/plain": [
              "                   drugName                     condition  \\\n",
              "0                 Valsartan  Left Ventricular Dysfunction   \n",
              "1                Guanfacine                          ADHD   \n",
              "2                    Lybrel                 Birth Control   \n",
              "3                Ortho Evra                 Birth Control   \n",
              "4  Buprenorphine / naloxone             Opiate Dependence   \n",
              "\n",
              "                                              review  rating  \n",
              "0  \"It has no side effect, I take it in combinati...       9  \n",
              "1  \"My son is halfway through his fourth week of ...       8  \n",
              "2  \"I used to take another oral contraceptive, wh...       5  \n",
              "3  \"This is my first time using any form of birth...       8  \n",
              "4  \"Suboxone has completely turned my life around...       9  "
            ],
            "text/html": [
              "\n",
              "  <div id=\"df-36089e76-7831-4bf0-b4f9-5174c072454c\">\n",
              "    <div class=\"colab-df-container\">\n",
              "      <div>\n",
              "<style scoped>\n",
              "    .dataframe tbody tr th:only-of-type {\n",
              "        vertical-align: middle;\n",
              "    }\n",
              "\n",
              "    .dataframe tbody tr th {\n",
              "        vertical-align: top;\n",
              "    }\n",
              "\n",
              "    .dataframe thead th {\n",
              "        text-align: right;\n",
              "    }\n",
              "</style>\n",
              "<table border=\"1\" class=\"dataframe\">\n",
              "  <thead>\n",
              "    <tr style=\"text-align: right;\">\n",
              "      <th></th>\n",
              "      <th>drugName</th>\n",
              "      <th>condition</th>\n",
              "      <th>review</th>\n",
              "      <th>rating</th>\n",
              "    </tr>\n",
              "  </thead>\n",
              "  <tbody>\n",
              "    <tr>\n",
              "      <th>0</th>\n",
              "      <td>Valsartan</td>\n",
              "      <td>Left Ventricular Dysfunction</td>\n",
              "      <td>\"It has no side effect, I take it in combinati...</td>\n",
              "      <td>9</td>\n",
              "    </tr>\n",
              "    <tr>\n",
              "      <th>1</th>\n",
              "      <td>Guanfacine</td>\n",
              "      <td>ADHD</td>\n",
              "      <td>\"My son is halfway through his fourth week of ...</td>\n",
              "      <td>8</td>\n",
              "    </tr>\n",
              "    <tr>\n",
              "      <th>2</th>\n",
              "      <td>Lybrel</td>\n",
              "      <td>Birth Control</td>\n",
              "      <td>\"I used to take another oral contraceptive, wh...</td>\n",
              "      <td>5</td>\n",
              "    </tr>\n",
              "    <tr>\n",
              "      <th>3</th>\n",
              "      <td>Ortho Evra</td>\n",
              "      <td>Birth Control</td>\n",
              "      <td>\"This is my first time using any form of birth...</td>\n",
              "      <td>8</td>\n",
              "    </tr>\n",
              "    <tr>\n",
              "      <th>4</th>\n",
              "      <td>Buprenorphine / naloxone</td>\n",
              "      <td>Opiate Dependence</td>\n",
              "      <td>\"Suboxone has completely turned my life around...</td>\n",
              "      <td>9</td>\n",
              "    </tr>\n",
              "  </tbody>\n",
              "</table>\n",
              "</div>\n",
              "      <button class=\"colab-df-convert\" onclick=\"convertToInteractive('df-36089e76-7831-4bf0-b4f9-5174c072454c')\"\n",
              "              title=\"Convert this dataframe to an interactive table.\"\n",
              "              style=\"display:none;\">\n",
              "        \n",
              "  <svg xmlns=\"http://www.w3.org/2000/svg\" height=\"24px\"viewBox=\"0 0 24 24\"\n",
              "       width=\"24px\">\n",
              "    <path d=\"M0 0h24v24H0V0z\" fill=\"none\"/>\n",
              "    <path d=\"M18.56 5.44l.94 2.06.94-2.06 2.06-.94-2.06-.94-.94-2.06-.94 2.06-2.06.94zm-11 1L8.5 8.5l.94-2.06 2.06-.94-2.06-.94L8.5 2.5l-.94 2.06-2.06.94zm10 10l.94 2.06.94-2.06 2.06-.94-2.06-.94-.94-2.06-.94 2.06-2.06.94z\"/><path d=\"M17.41 7.96l-1.37-1.37c-.4-.4-.92-.59-1.43-.59-.52 0-1.04.2-1.43.59L10.3 9.45l-7.72 7.72c-.78.78-.78 2.05 0 2.83L4 21.41c.39.39.9.59 1.41.59.51 0 1.02-.2 1.41-.59l7.78-7.78 2.81-2.81c.8-.78.8-2.07 0-2.86zM5.41 20L4 18.59l7.72-7.72 1.47 1.35L5.41 20z\"/>\n",
              "  </svg>\n",
              "      </button>\n",
              "      \n",
              "  <style>\n",
              "    .colab-df-container {\n",
              "      display:flex;\n",
              "      flex-wrap:wrap;\n",
              "      gap: 12px;\n",
              "    }\n",
              "\n",
              "    .colab-df-convert {\n",
              "      background-color: #E8F0FE;\n",
              "      border: none;\n",
              "      border-radius: 50%;\n",
              "      cursor: pointer;\n",
              "      display: none;\n",
              "      fill: #1967D2;\n",
              "      height: 32px;\n",
              "      padding: 0 0 0 0;\n",
              "      width: 32px;\n",
              "    }\n",
              "\n",
              "    .colab-df-convert:hover {\n",
              "      background-color: #E2EBFA;\n",
              "      box-shadow: 0px 1px 2px rgba(60, 64, 67, 0.3), 0px 1px 3px 1px rgba(60, 64, 67, 0.15);\n",
              "      fill: #174EA6;\n",
              "    }\n",
              "\n",
              "    [theme=dark] .colab-df-convert {\n",
              "      background-color: #3B4455;\n",
              "      fill: #D2E3FC;\n",
              "    }\n",
              "\n",
              "    [theme=dark] .colab-df-convert:hover {\n",
              "      background-color: #434B5C;\n",
              "      box-shadow: 0px 1px 3px 1px rgba(0, 0, 0, 0.15);\n",
              "      filter: drop-shadow(0px 1px 2px rgba(0, 0, 0, 0.3));\n",
              "      fill: #FFFFFF;\n",
              "    }\n",
              "  </style>\n",
              "\n",
              "      <script>\n",
              "        const buttonEl =\n",
              "          document.querySelector('#df-36089e76-7831-4bf0-b4f9-5174c072454c button.colab-df-convert');\n",
              "        buttonEl.style.display =\n",
              "          google.colab.kernel.accessAllowed ? 'block' : 'none';\n",
              "\n",
              "        async function convertToInteractive(key) {\n",
              "          const element = document.querySelector('#df-36089e76-7831-4bf0-b4f9-5174c072454c');\n",
              "          const dataTable =\n",
              "            await google.colab.kernel.invokeFunction('convertToInteractive',\n",
              "                                                     [key], {});\n",
              "          if (!dataTable) return;\n",
              "\n",
              "          const docLinkHtml = 'Like what you see? Visit the ' +\n",
              "            '<a target=\"_blank\" href=https://colab.research.google.com/notebooks/data_table.ipynb>data table notebook</a>'\n",
              "            + ' to learn more about interactive tables.';\n",
              "          element.innerHTML = '';\n",
              "          dataTable['output_type'] = 'display_data';\n",
              "          await google.colab.output.renderOutput(dataTable, element);\n",
              "          const docLink = document.createElement('div');\n",
              "          docLink.innerHTML = docLinkHtml;\n",
              "          element.appendChild(docLink);\n",
              "        }\n",
              "      </script>\n",
              "    </div>\n",
              "  </div>\n",
              "  "
            ]
          },
          "metadata": {},
          "execution_count": 7
        }
      ]
    },
    {
      "cell_type": "markdown",
      "source": [
        "To check there is no any null values "
      ],
      "metadata": {
        "id": "_VbF8ZQ0b5No"
      }
    },
    {
      "cell_type": "code",
      "source": [
        "df.isna().sum()"
      ],
      "metadata": {
        "colab": {
          "base_uri": "https://localhost:8080/"
        },
        "id": "oQ6nhq7Xb5RK",
        "outputId": "f48f989b-6340-44f1-94d2-0039e83bb20d"
      },
      "execution_count": 8,
      "outputs": [
        {
          "output_type": "execute_result",
          "data": {
            "text/plain": [
              "drugName        0\n",
              "condition    1194\n",
              "review          0\n",
              "rating          0\n",
              "dtype: int64"
            ]
          },
          "metadata": {},
          "execution_count": 8
        }
      ]
    },
    {
      "cell_type": "code",
      "source": [
        "df = df.dropna()"
      ],
      "metadata": {
        "id": "irmhRvBqb5Uk"
      },
      "execution_count": 9,
      "outputs": []
    },
    {
      "cell_type": "code",
      "source": [
        "df.describe()"
      ],
      "metadata": {
        "colab": {
          "base_uri": "https://localhost:8080/",
          "height": 300
        },
        "id": "VPJhzyQgb5X_",
        "outputId": "cc9f6306-9957-4b55-8b70-4000205b372f"
      },
      "execution_count": 10,
      "outputs": [
        {
          "output_type": "execute_result",
          "data": {
            "text/plain": [
              "              rating\n",
              "count  213869.000000\n",
              "mean        6.991149\n",
              "std         3.275792\n",
              "min         1.000000\n",
              "25%         5.000000\n",
              "50%         8.000000\n",
              "75%        10.000000\n",
              "max        10.000000"
            ],
            "text/html": [
              "\n",
              "  <div id=\"df-ad39357a-a868-43dd-9f93-14154267d859\">\n",
              "    <div class=\"colab-df-container\">\n",
              "      <div>\n",
              "<style scoped>\n",
              "    .dataframe tbody tr th:only-of-type {\n",
              "        vertical-align: middle;\n",
              "    }\n",
              "\n",
              "    .dataframe tbody tr th {\n",
              "        vertical-align: top;\n",
              "    }\n",
              "\n",
              "    .dataframe thead th {\n",
              "        text-align: right;\n",
              "    }\n",
              "</style>\n",
              "<table border=\"1\" class=\"dataframe\">\n",
              "  <thead>\n",
              "    <tr style=\"text-align: right;\">\n",
              "      <th></th>\n",
              "      <th>rating</th>\n",
              "    </tr>\n",
              "  </thead>\n",
              "  <tbody>\n",
              "    <tr>\n",
              "      <th>count</th>\n",
              "      <td>213869.000000</td>\n",
              "    </tr>\n",
              "    <tr>\n",
              "      <th>mean</th>\n",
              "      <td>6.991149</td>\n",
              "    </tr>\n",
              "    <tr>\n",
              "      <th>std</th>\n",
              "      <td>3.275792</td>\n",
              "    </tr>\n",
              "    <tr>\n",
              "      <th>min</th>\n",
              "      <td>1.000000</td>\n",
              "    </tr>\n",
              "    <tr>\n",
              "      <th>25%</th>\n",
              "      <td>5.000000</td>\n",
              "    </tr>\n",
              "    <tr>\n",
              "      <th>50%</th>\n",
              "      <td>8.000000</td>\n",
              "    </tr>\n",
              "    <tr>\n",
              "      <th>75%</th>\n",
              "      <td>10.000000</td>\n",
              "    </tr>\n",
              "    <tr>\n",
              "      <th>max</th>\n",
              "      <td>10.000000</td>\n",
              "    </tr>\n",
              "  </tbody>\n",
              "</table>\n",
              "</div>\n",
              "      <button class=\"colab-df-convert\" onclick=\"convertToInteractive('df-ad39357a-a868-43dd-9f93-14154267d859')\"\n",
              "              title=\"Convert this dataframe to an interactive table.\"\n",
              "              style=\"display:none;\">\n",
              "        \n",
              "  <svg xmlns=\"http://www.w3.org/2000/svg\" height=\"24px\"viewBox=\"0 0 24 24\"\n",
              "       width=\"24px\">\n",
              "    <path d=\"M0 0h24v24H0V0z\" fill=\"none\"/>\n",
              "    <path d=\"M18.56 5.44l.94 2.06.94-2.06 2.06-.94-2.06-.94-.94-2.06-.94 2.06-2.06.94zm-11 1L8.5 8.5l.94-2.06 2.06-.94-2.06-.94L8.5 2.5l-.94 2.06-2.06.94zm10 10l.94 2.06.94-2.06 2.06-.94-2.06-.94-.94-2.06-.94 2.06-2.06.94z\"/><path d=\"M17.41 7.96l-1.37-1.37c-.4-.4-.92-.59-1.43-.59-.52 0-1.04.2-1.43.59L10.3 9.45l-7.72 7.72c-.78.78-.78 2.05 0 2.83L4 21.41c.39.39.9.59 1.41.59.51 0 1.02-.2 1.41-.59l7.78-7.78 2.81-2.81c.8-.78.8-2.07 0-2.86zM5.41 20L4 18.59l7.72-7.72 1.47 1.35L5.41 20z\"/>\n",
              "  </svg>\n",
              "      </button>\n",
              "      \n",
              "  <style>\n",
              "    .colab-df-container {\n",
              "      display:flex;\n",
              "      flex-wrap:wrap;\n",
              "      gap: 12px;\n",
              "    }\n",
              "\n",
              "    .colab-df-convert {\n",
              "      background-color: #E8F0FE;\n",
              "      border: none;\n",
              "      border-radius: 50%;\n",
              "      cursor: pointer;\n",
              "      display: none;\n",
              "      fill: #1967D2;\n",
              "      height: 32px;\n",
              "      padding: 0 0 0 0;\n",
              "      width: 32px;\n",
              "    }\n",
              "\n",
              "    .colab-df-convert:hover {\n",
              "      background-color: #E2EBFA;\n",
              "      box-shadow: 0px 1px 2px rgba(60, 64, 67, 0.3), 0px 1px 3px 1px rgba(60, 64, 67, 0.15);\n",
              "      fill: #174EA6;\n",
              "    }\n",
              "\n",
              "    [theme=dark] .colab-df-convert {\n",
              "      background-color: #3B4455;\n",
              "      fill: #D2E3FC;\n",
              "    }\n",
              "\n",
              "    [theme=dark] .colab-df-convert:hover {\n",
              "      background-color: #434B5C;\n",
              "      box-shadow: 0px 1px 3px 1px rgba(0, 0, 0, 0.15);\n",
              "      filter: drop-shadow(0px 1px 2px rgba(0, 0, 0, 0.3));\n",
              "      fill: #FFFFFF;\n",
              "    }\n",
              "  </style>\n",
              "\n",
              "      <script>\n",
              "        const buttonEl =\n",
              "          document.querySelector('#df-ad39357a-a868-43dd-9f93-14154267d859 button.colab-df-convert');\n",
              "        buttonEl.style.display =\n",
              "          google.colab.kernel.accessAllowed ? 'block' : 'none';\n",
              "\n",
              "        async function convertToInteractive(key) {\n",
              "          const element = document.querySelector('#df-ad39357a-a868-43dd-9f93-14154267d859');\n",
              "          const dataTable =\n",
              "            await google.colab.kernel.invokeFunction('convertToInteractive',\n",
              "                                                     [key], {});\n",
              "          if (!dataTable) return;\n",
              "\n",
              "          const docLinkHtml = 'Like what you see? Visit the ' +\n",
              "            '<a target=\"_blank\" href=https://colab.research.google.com/notebooks/data_table.ipynb>data table notebook</a>'\n",
              "            + ' to learn more about interactive tables.';\n",
              "          element.innerHTML = '';\n",
              "          dataTable['output_type'] = 'display_data';\n",
              "          await google.colab.output.renderOutput(dataTable, element);\n",
              "          const docLink = document.createElement('div');\n",
              "          docLink.innerHTML = docLinkHtml;\n",
              "          element.appendChild(docLink);\n",
              "        }\n",
              "      </script>\n",
              "    </div>\n",
              "  </div>\n",
              "  "
            ]
          },
          "metadata": {},
          "execution_count": 10
        }
      ]
    },
    {
      "cell_type": "markdown",
      "source": [
        "As we can see that\n",
        "\n",
        "In the review there are some unknown symbols and the number with don't play a big role in the model learning so we had need to remove it."
      ],
      "metadata": {
        "id": "NzzXsv02cY9X"
      }
    },
    {
      "cell_type": "code",
      "source": [
        "\n",
        "def clean_text(x):\n",
        "   pattern = r'[^a-zA-z0-9\\s]'\n",
        "   x = re.sub(pattern, '', x)\n",
        "   return x\n",
        "\n",
        "def remove_num(x):\n",
        "  if bool(re.search(r'\\d', x)):\n",
        "        x = re.sub('[0-9]{5,}', '#####', x)\n",
        "        x = re.sub('[0-9]{4}', '####', x)\n",
        "        x = re.sub('[0-9]{3}', '###', x)\n",
        "        x = re.sub('[0-9]{2}', '##', x)\n",
        "  return x   "
      ],
      "metadata": {
        "id": "8bUknKgFcZBf"
      },
      "execution_count": 11,
      "outputs": []
    },
    {
      "cell_type": "code",
      "source": [
        "df['review'] = df['review'].apply(lambda x : clean_text(x)).apply(lambda x : remove_num(x))"
      ],
      "metadata": {
        "id": "HjcwNoYocZEy"
      },
      "execution_count": 12,
      "outputs": []
    },
    {
      "cell_type": "markdown",
      "source": [
        "> # 1. To predict the rating of the review  "
      ],
      "metadata": {
        "id": "goExoCE5SWHL"
      }
    },
    {
      "cell_type": "code",
      "source": [
        "data_rating = df[['review' , 'rating']]"
      ],
      "metadata": {
        "id": "xx1_I_tWbScx"
      },
      "execution_count": 13,
      "outputs": []
    },
    {
      "cell_type": "code",
      "source": [
        "data_rating.head()"
      ],
      "metadata": {
        "id": "7AbUP8bSTM6P",
        "colab": {
          "base_uri": "https://localhost:8080/",
          "height": 206
        },
        "outputId": "13d5e44e-bb6e-47da-d8d8-34fcdffaed07"
      },
      "execution_count": 14,
      "outputs": [
        {
          "output_type": "execute_result",
          "data": {
            "text/plain": [
              "                                              review  rating\n",
              "0  It has no side effect I take it in combination...       9\n",
              "1  My son is halfway through his fourth week of I...       8\n",
              "2  I used to take another oral contraceptive whic...       5\n",
              "3  This is my first time using any form of birth ...       8\n",
              "4  Suboxone has completely turned my life around ...       9"
            ],
            "text/html": [
              "\n",
              "  <div id=\"df-dd9f7150-1ef0-4c7e-bff5-59bd97bcbfa8\">\n",
              "    <div class=\"colab-df-container\">\n",
              "      <div>\n",
              "<style scoped>\n",
              "    .dataframe tbody tr th:only-of-type {\n",
              "        vertical-align: middle;\n",
              "    }\n",
              "\n",
              "    .dataframe tbody tr th {\n",
              "        vertical-align: top;\n",
              "    }\n",
              "\n",
              "    .dataframe thead th {\n",
              "        text-align: right;\n",
              "    }\n",
              "</style>\n",
              "<table border=\"1\" class=\"dataframe\">\n",
              "  <thead>\n",
              "    <tr style=\"text-align: right;\">\n",
              "      <th></th>\n",
              "      <th>review</th>\n",
              "      <th>rating</th>\n",
              "    </tr>\n",
              "  </thead>\n",
              "  <tbody>\n",
              "    <tr>\n",
              "      <th>0</th>\n",
              "      <td>It has no side effect I take it in combination...</td>\n",
              "      <td>9</td>\n",
              "    </tr>\n",
              "    <tr>\n",
              "      <th>1</th>\n",
              "      <td>My son is halfway through his fourth week of I...</td>\n",
              "      <td>8</td>\n",
              "    </tr>\n",
              "    <tr>\n",
              "      <th>2</th>\n",
              "      <td>I used to take another oral contraceptive whic...</td>\n",
              "      <td>5</td>\n",
              "    </tr>\n",
              "    <tr>\n",
              "      <th>3</th>\n",
              "      <td>This is my first time using any form of birth ...</td>\n",
              "      <td>8</td>\n",
              "    </tr>\n",
              "    <tr>\n",
              "      <th>4</th>\n",
              "      <td>Suboxone has completely turned my life around ...</td>\n",
              "      <td>9</td>\n",
              "    </tr>\n",
              "  </tbody>\n",
              "</table>\n",
              "</div>\n",
              "      <button class=\"colab-df-convert\" onclick=\"convertToInteractive('df-dd9f7150-1ef0-4c7e-bff5-59bd97bcbfa8')\"\n",
              "              title=\"Convert this dataframe to an interactive table.\"\n",
              "              style=\"display:none;\">\n",
              "        \n",
              "  <svg xmlns=\"http://www.w3.org/2000/svg\" height=\"24px\"viewBox=\"0 0 24 24\"\n",
              "       width=\"24px\">\n",
              "    <path d=\"M0 0h24v24H0V0z\" fill=\"none\"/>\n",
              "    <path d=\"M18.56 5.44l.94 2.06.94-2.06 2.06-.94-2.06-.94-.94-2.06-.94 2.06-2.06.94zm-11 1L8.5 8.5l.94-2.06 2.06-.94-2.06-.94L8.5 2.5l-.94 2.06-2.06.94zm10 10l.94 2.06.94-2.06 2.06-.94-2.06-.94-.94-2.06-.94 2.06-2.06.94z\"/><path d=\"M17.41 7.96l-1.37-1.37c-.4-.4-.92-.59-1.43-.59-.52 0-1.04.2-1.43.59L10.3 9.45l-7.72 7.72c-.78.78-.78 2.05 0 2.83L4 21.41c.39.39.9.59 1.41.59.51 0 1.02-.2 1.41-.59l7.78-7.78 2.81-2.81c.8-.78.8-2.07 0-2.86zM5.41 20L4 18.59l7.72-7.72 1.47 1.35L5.41 20z\"/>\n",
              "  </svg>\n",
              "      </button>\n",
              "      \n",
              "  <style>\n",
              "    .colab-df-container {\n",
              "      display:flex;\n",
              "      flex-wrap:wrap;\n",
              "      gap: 12px;\n",
              "    }\n",
              "\n",
              "    .colab-df-convert {\n",
              "      background-color: #E8F0FE;\n",
              "      border: none;\n",
              "      border-radius: 50%;\n",
              "      cursor: pointer;\n",
              "      display: none;\n",
              "      fill: #1967D2;\n",
              "      height: 32px;\n",
              "      padding: 0 0 0 0;\n",
              "      width: 32px;\n",
              "    }\n",
              "\n",
              "    .colab-df-convert:hover {\n",
              "      background-color: #E2EBFA;\n",
              "      box-shadow: 0px 1px 2px rgba(60, 64, 67, 0.3), 0px 1px 3px 1px rgba(60, 64, 67, 0.15);\n",
              "      fill: #174EA6;\n",
              "    }\n",
              "\n",
              "    [theme=dark] .colab-df-convert {\n",
              "      background-color: #3B4455;\n",
              "      fill: #D2E3FC;\n",
              "    }\n",
              "\n",
              "    [theme=dark] .colab-df-convert:hover {\n",
              "      background-color: #434B5C;\n",
              "      box-shadow: 0px 1px 3px 1px rgba(0, 0, 0, 0.15);\n",
              "      filter: drop-shadow(0px 1px 2px rgba(0, 0, 0, 0.3));\n",
              "      fill: #FFFFFF;\n",
              "    }\n",
              "  </style>\n",
              "\n",
              "      <script>\n",
              "        const buttonEl =\n",
              "          document.querySelector('#df-dd9f7150-1ef0-4c7e-bff5-59bd97bcbfa8 button.colab-df-convert');\n",
              "        buttonEl.style.display =\n",
              "          google.colab.kernel.accessAllowed ? 'block' : 'none';\n",
              "\n",
              "        async function convertToInteractive(key) {\n",
              "          const element = document.querySelector('#df-dd9f7150-1ef0-4c7e-bff5-59bd97bcbfa8');\n",
              "          const dataTable =\n",
              "            await google.colab.kernel.invokeFunction('convertToInteractive',\n",
              "                                                     [key], {});\n",
              "          if (!dataTable) return;\n",
              "\n",
              "          const docLinkHtml = 'Like what you see? Visit the ' +\n",
              "            '<a target=\"_blank\" href=https://colab.research.google.com/notebooks/data_table.ipynb>data table notebook</a>'\n",
              "            + ' to learn more about interactive tables.';\n",
              "          element.innerHTML = '';\n",
              "          dataTable['output_type'] = 'display_data';\n",
              "          await google.colab.output.renderOutput(dataTable, element);\n",
              "          const docLink = document.createElement('div');\n",
              "          docLink.innerHTML = docLinkHtml;\n",
              "          element.appendChild(docLink);\n",
              "        }\n",
              "      </script>\n",
              "    </div>\n",
              "  </div>\n",
              "  "
            ]
          },
          "metadata": {},
          "execution_count": 14
        }
      ]
    },
    {
      "cell_type": "code",
      "source": [
        "data_rating.tail()"
      ],
      "metadata": {
        "id": "xT3b1pOJTM9P",
        "colab": {
          "base_uri": "https://localhost:8080/",
          "height": 206
        },
        "outputId": "766a3857-ed12-4dcd-be1b-6b463fa7fd7f"
      },
      "execution_count": 15,
      "outputs": [
        {
          "output_type": "execute_result",
          "data": {
            "text/plain": [
              "                                                  review  rating\n",
              "53761  I have taken Tamoxifen for 5 years Side effect...      10\n",
              "53762  I###ve been taking Lexapro escitaploprgram sin...       9\n",
              "53763  I###m married ## years old and I have no kids ...       8\n",
              "53764  I was prescribed Nucynta for severe neckshould...       1\n",
              "53765                                           It works       9"
            ],
            "text/html": [
              "\n",
              "  <div id=\"df-f8405d90-325d-4594-9743-2aa15024829a\">\n",
              "    <div class=\"colab-df-container\">\n",
              "      <div>\n",
              "<style scoped>\n",
              "    .dataframe tbody tr th:only-of-type {\n",
              "        vertical-align: middle;\n",
              "    }\n",
              "\n",
              "    .dataframe tbody tr th {\n",
              "        vertical-align: top;\n",
              "    }\n",
              "\n",
              "    .dataframe thead th {\n",
              "        text-align: right;\n",
              "    }\n",
              "</style>\n",
              "<table border=\"1\" class=\"dataframe\">\n",
              "  <thead>\n",
              "    <tr style=\"text-align: right;\">\n",
              "      <th></th>\n",
              "      <th>review</th>\n",
              "      <th>rating</th>\n",
              "    </tr>\n",
              "  </thead>\n",
              "  <tbody>\n",
              "    <tr>\n",
              "      <th>53761</th>\n",
              "      <td>I have taken Tamoxifen for 5 years Side effect...</td>\n",
              "      <td>10</td>\n",
              "    </tr>\n",
              "    <tr>\n",
              "      <th>53762</th>\n",
              "      <td>I###ve been taking Lexapro escitaploprgram sin...</td>\n",
              "      <td>9</td>\n",
              "    </tr>\n",
              "    <tr>\n",
              "      <th>53763</th>\n",
              "      <td>I###m married ## years old and I have no kids ...</td>\n",
              "      <td>8</td>\n",
              "    </tr>\n",
              "    <tr>\n",
              "      <th>53764</th>\n",
              "      <td>I was prescribed Nucynta for severe neckshould...</td>\n",
              "      <td>1</td>\n",
              "    </tr>\n",
              "    <tr>\n",
              "      <th>53765</th>\n",
              "      <td>It works</td>\n",
              "      <td>9</td>\n",
              "    </tr>\n",
              "  </tbody>\n",
              "</table>\n",
              "</div>\n",
              "      <button class=\"colab-df-convert\" onclick=\"convertToInteractive('df-f8405d90-325d-4594-9743-2aa15024829a')\"\n",
              "              title=\"Convert this dataframe to an interactive table.\"\n",
              "              style=\"display:none;\">\n",
              "        \n",
              "  <svg xmlns=\"http://www.w3.org/2000/svg\" height=\"24px\"viewBox=\"0 0 24 24\"\n",
              "       width=\"24px\">\n",
              "    <path d=\"M0 0h24v24H0V0z\" fill=\"none\"/>\n",
              "    <path d=\"M18.56 5.44l.94 2.06.94-2.06 2.06-.94-2.06-.94-.94-2.06-.94 2.06-2.06.94zm-11 1L8.5 8.5l.94-2.06 2.06-.94-2.06-.94L8.5 2.5l-.94 2.06-2.06.94zm10 10l.94 2.06.94-2.06 2.06-.94-2.06-.94-.94-2.06-.94 2.06-2.06.94z\"/><path d=\"M17.41 7.96l-1.37-1.37c-.4-.4-.92-.59-1.43-.59-.52 0-1.04.2-1.43.59L10.3 9.45l-7.72 7.72c-.78.78-.78 2.05 0 2.83L4 21.41c.39.39.9.59 1.41.59.51 0 1.02-.2 1.41-.59l7.78-7.78 2.81-2.81c.8-.78.8-2.07 0-2.86zM5.41 20L4 18.59l7.72-7.72 1.47 1.35L5.41 20z\"/>\n",
              "  </svg>\n",
              "      </button>\n",
              "      \n",
              "  <style>\n",
              "    .colab-df-container {\n",
              "      display:flex;\n",
              "      flex-wrap:wrap;\n",
              "      gap: 12px;\n",
              "    }\n",
              "\n",
              "    .colab-df-convert {\n",
              "      background-color: #E8F0FE;\n",
              "      border: none;\n",
              "      border-radius: 50%;\n",
              "      cursor: pointer;\n",
              "      display: none;\n",
              "      fill: #1967D2;\n",
              "      height: 32px;\n",
              "      padding: 0 0 0 0;\n",
              "      width: 32px;\n",
              "    }\n",
              "\n",
              "    .colab-df-convert:hover {\n",
              "      background-color: #E2EBFA;\n",
              "      box-shadow: 0px 1px 2px rgba(60, 64, 67, 0.3), 0px 1px 3px 1px rgba(60, 64, 67, 0.15);\n",
              "      fill: #174EA6;\n",
              "    }\n",
              "\n",
              "    [theme=dark] .colab-df-convert {\n",
              "      background-color: #3B4455;\n",
              "      fill: #D2E3FC;\n",
              "    }\n",
              "\n",
              "    [theme=dark] .colab-df-convert:hover {\n",
              "      background-color: #434B5C;\n",
              "      box-shadow: 0px 1px 3px 1px rgba(0, 0, 0, 0.15);\n",
              "      filter: drop-shadow(0px 1px 2px rgba(0, 0, 0, 0.3));\n",
              "      fill: #FFFFFF;\n",
              "    }\n",
              "  </style>\n",
              "\n",
              "      <script>\n",
              "        const buttonEl =\n",
              "          document.querySelector('#df-f8405d90-325d-4594-9743-2aa15024829a button.colab-df-convert');\n",
              "        buttonEl.style.display =\n",
              "          google.colab.kernel.accessAllowed ? 'block' : 'none';\n",
              "\n",
              "        async function convertToInteractive(key) {\n",
              "          const element = document.querySelector('#df-f8405d90-325d-4594-9743-2aa15024829a');\n",
              "          const dataTable =\n",
              "            await google.colab.kernel.invokeFunction('convertToInteractive',\n",
              "                                                     [key], {});\n",
              "          if (!dataTable) return;\n",
              "\n",
              "          const docLinkHtml = 'Like what you see? Visit the ' +\n",
              "            '<a target=\"_blank\" href=https://colab.research.google.com/notebooks/data_table.ipynb>data table notebook</a>'\n",
              "            + ' to learn more about interactive tables.';\n",
              "          element.innerHTML = '';\n",
              "          dataTable['output_type'] = 'display_data';\n",
              "          await google.colab.output.renderOutput(dataTable, element);\n",
              "          const docLink = document.createElement('div');\n",
              "          docLink.innerHTML = docLinkHtml;\n",
              "          element.appendChild(docLink);\n",
              "        }\n",
              "      </script>\n",
              "    </div>\n",
              "  </div>\n",
              "  "
            ]
          },
          "metadata": {},
          "execution_count": 15
        }
      ]
    },
    {
      "cell_type": "code",
      "source": [
        "data_rating.hist(bins=10)"
      ],
      "metadata": {
        "id": "RTJvcnKwTNAp",
        "colab": {
          "base_uri": "https://localhost:8080/",
          "height": 298
        },
        "outputId": "1c947a07-d76d-4df5-d534-73605a9afb57"
      },
      "execution_count": 16,
      "outputs": [
        {
          "output_type": "execute_result",
          "data": {
            "text/plain": [
              "array([[<Axes: title={'center': 'rating'}>]], dtype=object)"
            ]
          },
          "metadata": {},
          "execution_count": 16
        },
        {
          "output_type": "display_data",
          "data": {
            "text/plain": [
              "<Figure size 432x288 with 1 Axes>"
            ],
            "image/png": "[encoded data removed]"
          },
          "metadata": {
            "needs_background": "light"
          }
        }
      ]
    },
    {
      "cell_type": "code",
      "source": [
        "data_rating.describe()"
      ],
      "metadata": {
        "id": "nMjQhg6vTNFu",
        "colab": {
          "base_uri": "https://localhost:8080/",
          "height": 300
        },
        "outputId": "a63c8746-ee43-4c06-9ce1-22ae174aa385"
      },
      "execution_count": 17,
      "outputs": [
        {
          "output_type": "execute_result",
          "data": {
            "text/plain": [
              "              rating\n",
              "count  213869.000000\n",
              "mean        6.991149\n",
              "std         3.275792\n",
              "min         1.000000\n",
              "25%         5.000000\n",
              "50%         8.000000\n",
              "75%        10.000000\n",
              "max        10.000000"
            ],
            "text/html": [
              "\n",
              "  <div id=\"df-90cea0fe-db4e-49c9-b317-87dfe1e0e185\">\n",
              "    <div class=\"colab-df-container\">\n",
              "      <div>\n",
              "<style scoped>\n",
              "    .dataframe tbody tr th:only-of-type {\n",
              "        vertical-align: middle;\n",
              "    }\n",
              "\n",
              "    .dataframe tbody tr th {\n",
              "        vertical-align: top;\n",
              "    }\n",
              "\n",
              "    .dataframe thead th {\n",
              "        text-align: right;\n",
              "    }\n",
              "</style>\n",
              "<table border=\"1\" class=\"dataframe\">\n",
              "  <thead>\n",
              "    <tr style=\"text-align: right;\">\n",
              "      <th></th>\n",
              "      <th>rating</th>\n",
              "    </tr>\n",
              "  </thead>\n",
              "  <tbody>\n",
              "    <tr>\n",
              "      <th>count</th>\n",
              "      <td>213869.000000</td>\n",
              "    </tr>\n",
              "    <tr>\n",
              "      <th>mean</th>\n",
              "      <td>6.991149</td>\n",
              "    </tr>\n",
              "    <tr>\n",
              "      <th>std</th>\n",
              "      <td>3.275792</td>\n",
              "    </tr>\n",
              "    <tr>\n",
              "      <th>min</th>\n",
              "      <td>1.000000</td>\n",
              "    </tr>\n",
              "    <tr>\n",
              "      <th>25%</th>\n",
              "      <td>5.000000</td>\n",
              "    </tr>\n",
              "    <tr>\n",
              "      <th>50%</th>\n",
              "      <td>8.000000</td>\n",
              "    </tr>\n",
              "    <tr>\n",
              "      <th>75%</th>\n",
              "      <td>10.000000</td>\n",
              "    </tr>\n",
              "    <tr>\n",
              "      <th>max</th>\n",
              "      <td>10.000000</td>\n",
              "    </tr>\n",
              "  </tbody>\n",
              "</table>\n",
              "</div>\n",
              "      <button class=\"colab-df-convert\" onclick=\"convertToInteractive('df-90cea0fe-db4e-49c9-b317-87dfe1e0e185')\"\n",
              "              title=\"Convert this dataframe to an interactive table.\"\n",
              "              style=\"display:none;\">\n",
              "        \n",
              "  <svg xmlns=\"http://www.w3.org/2000/svg\" height=\"24px\"viewBox=\"0 0 24 24\"\n",
              "       width=\"24px\">\n",
              "    <path d=\"M0 0h24v24H0V0z\" fill=\"none\"/>\n",
              "    <path d=\"M18.56 5.44l.94 2.06.94-2.06 2.06-.94-2.06-.94-.94-2.06-.94 2.06-2.06.94zm-11 1L8.5 8.5l.94-2.06 2.06-.94-2.06-.94L8.5 2.5l-.94 2.06-2.06.94zm10 10l.94 2.06.94-2.06 2.06-.94-2.06-.94-.94-2.06-.94 2.06-2.06.94z\"/><path d=\"M17.41 7.96l-1.37-1.37c-.4-.4-.92-.59-1.43-.59-.52 0-1.04.2-1.43.59L10.3 9.45l-7.72 7.72c-.78.78-.78 2.05 0 2.83L4 21.41c.39.39.9.59 1.41.59.51 0 1.02-.2 1.41-.59l7.78-7.78 2.81-2.81c.8-.78.8-2.07 0-2.86zM5.41 20L4 18.59l7.72-7.72 1.47 1.35L5.41 20z\"/>\n",
              "  </svg>\n",
              "      </button>\n",
              "      \n",
              "  <style>\n",
              "    .colab-df-container {\n",
              "      display:flex;\n",
              "      flex-wrap:wrap;\n",
              "      gap: 12px;\n",
              "    }\n",
              "\n",
              "    .colab-df-convert {\n",
              "      background-color: #E8F0FE;\n",
              "      border: none;\n",
              "      border-radius: 50%;\n",
              "      cursor: pointer;\n",
              "      display: none;\n",
              "      fill: #1967D2;\n",
              "      height: 32px;\n",
              "      padding: 0 0 0 0;\n",
              "      width: 32px;\n",
              "    }\n",
              "\n",
              "    .colab-df-convert:hover {\n",
              "      background-color: #E2EBFA;\n",
              "      box-shadow: 0px 1px 2px rgba(60, 64, 67, 0.3), 0px 1px 3px 1px rgba(60, 64, 67, 0.15);\n",
              "      fill: #174EA6;\n",
              "    }\n",
              "\n",
              "    [theme=dark] .colab-df-convert {\n",
              "      background-color: #3B4455;\n",
              "      fill: #D2E3FC;\n",
              "    }\n",
              "\n",
              "    [theme=dark] .colab-df-convert:hover {\n",
              "      background-color: #434B5C;\n",
              "      box-shadow: 0px 1px 3px 1px rgba(0, 0, 0, 0.15);\n",
              "      filter: drop-shadow(0px 1px 2px rgba(0, 0, 0, 0.3));\n",
              "      fill: #FFFFFF;\n",
              "    }\n",
              "  </style>\n",
              "\n",
              "      <script>\n",
              "        const buttonEl =\n",
              "          document.querySelector('#df-90cea0fe-db4e-49c9-b317-87dfe1e0e185 button.colab-df-convert');\n",
              "        buttonEl.style.display =\n",
              "          google.colab.kernel.accessAllowed ? 'block' : 'none';\n",
              "\n",
              "        async function convertToInteractive(key) {\n",
              "          const element = document.querySelector('#df-90cea0fe-db4e-49c9-b317-87dfe1e0e185');\n",
              "          const dataTable =\n",
              "            await google.colab.kernel.invokeFunction('convertToInteractive',\n",
              "                                                     [key], {});\n",
              "          if (!dataTable) return;\n",
              "\n",
              "          const docLinkHtml = 'Like what you see? Visit the ' +\n",
              "            '<a target=\"_blank\" href=https://colab.research.google.com/notebooks/data_table.ipynb>data table notebook</a>'\n",
              "            + ' to learn more about interactive tables.';\n",
              "          element.innerHTML = '';\n",
              "          dataTable['output_type'] = 'display_data';\n",
              "          await google.colab.output.renderOutput(dataTable, element);\n",
              "          const docLink = document.createElement('div');\n",
              "          docLink.innerHTML = docLinkHtml;\n",
              "          element.appendChild(docLink);\n",
              "        }\n",
              "      </script>\n",
              "    </div>\n",
              "  </div>\n",
              "  "
            ]
          },
          "metadata": {},
          "execution_count": 17
        }
      ]
    },
    {
      "cell_type": "markdown",
      "source": [
        "### Spliting the data into Train & Test Dataset"
      ],
      "metadata": {
        "id": "ajjYNqWUe5Iu"
      }
    },
    {
      "cell_type": "code",
      "source": [
        "train_rate = data_rating.sample(frac=0.8, random_state = 0)\n",
        "test_rate = data_rating.drop(train_rate.index)"
      ],
      "metadata": {
        "id": "33WeP9CbTNJC"
      },
      "execution_count": 18,
      "outputs": []
    },
    {
      "cell_type": "markdown",
      "source": [
        "### Embeding Layer \n",
        "This is the Layer in  which text dataset change into the numerical values"
      ],
      "metadata": {
        "id": "SGueNxswfHeA"
      }
    },
    {
      "cell_type": "code",
      "source": [
        "embedding = \"https://tfhub.dev/google/tf2-preview/nnlm-en-dim128/1\"\n",
        "hub_layer = hub.KerasLayer(embedding, output_shape=[128],\n",
        "                           input_shape=[],\n",
        "                           dtype=tf.string,\n",
        "                           trainable=True)"
      ],
      "metadata": {
        "id": "jO5d1eKCTNPi"
      },
      "execution_count": 19,
      "outputs": []
    },
    {
      "cell_type": "markdown",
      "source": [
        "## Using the Keras Sequential net model for the training data "
      ],
      "metadata": {
        "id": "03a3Kb-zfm2t"
      }
    },
    {
      "cell_type": "code",
      "source": [
        "model = tf.keras.Sequential()\n",
        "model.add(hub_layer)\n",
        "for units in [128,64,32,16]:\n",
        "  model.add(tf.keras.layers.Dense(units, activation='relu'))\n",
        "  model.add(tf.keras.layers.Dropout(0.35))\n",
        "\n",
        "model.add(tf.keras.layers.Dense(1))"
      ],
      "metadata": {
        "id": "H5RNq9DTT9n-"
      },
      "execution_count": 33,
      "outputs": []
    },
    {
      "cell_type": "markdown",
      "source": [
        "### Model summary and all the no. of nuerons used in each layer"
      ],
      "metadata": {
        "id": "m-JkX855f2sC"
      }
    },
    {
      "cell_type": "code",
      "source": [
        "model.summary()"
      ],
      "metadata": {
        "id": "XPSuowtbT9rC",
        "colab": {
          "base_uri": "https://localhost:8080/"
        },
        "outputId": "ddef2452-03ef-4210-aada-a97291d5351d"
      },
      "execution_count": 34,
      "outputs": [
        {
          "output_type": "stream",
          "name": "stdout",
          "text": [
            "Model: \"sequential_3\"\n",
            "_________________________________________________________________\n",
            " Layer (type)                Output Shape              Param #   \n",
            "=================================================================\n",
            " keras_layer (KerasLayer)    (None, 128)               124642688 \n",
            "                                                                 \n",
            " dense_15 (Dense)            (None, 128)               16512     \n",
            "                                                                 \n",
            " dropout_12 (Dropout)        (None, 128)               0         \n",
            "                                                                 \n",
            " dense_16 (Dense)            (None, 64)                8256      \n",
            "                                                                 \n",
            " dropout_13 (Dropout)        (None, 64)                0         \n",
            "                                                                 \n",
            " dense_17 (Dense)            (None, 32)                2080      \n",
            "                                                                 \n",
            " dropout_14 (Dropout)        (None, 32)                0         \n",
            "                                                                 \n",
            " dense_18 (Dense)            (None, 16)                528       \n",
            "                                                                 \n",
            " dropout_15 (Dropout)        (None, 16)                0         \n",
            "                                                                 \n",
            " dense_19 (Dense)            (None, 1)                 17        \n",
            "                                                                 \n",
            "=================================================================\n",
            "Total params: 124,670,081\n",
            "Trainable params: 124,670,081\n",
            "Non-trainable params: 0\n",
            "_________________________________________________________________\n"
          ]
        }
      ]
    },
    {
      "cell_type": "markdown",
      "source": [
        "**Compiling the model**"
      ],
      "metadata": {
        "id": "6K8vs_K7gI07"
      }
    },
    {
      "cell_type": "code",
      "source": [
        "model.compile(optimizer = 'adam',\n",
        "              loss = 'mean_absolute_error',\n",
        "              metrics= ['accuracy' , 'mse'])"
      ],
      "metadata": {
        "id": "iVY_6nUOT9t5"
      },
      "execution_count": 35,
      "outputs": []
    },
    {
      "cell_type": "code",
      "source": [
        "train_rate.head()"
      ],
      "metadata": {
        "id": "_wsvKdZtT9xF",
        "colab": {
          "base_uri": "https://localhost:8080/",
          "height": 206
        },
        "outputId": "69cfa95a-3e16-461b-f6b1-42d5f38a6878"
      },
      "execution_count": 36,
      "outputs": [
        {
          "output_type": "execute_result",
          "data": {
            "text/plain": [
              "                                                  review  rating\n",
              "6501   Started on ## mg which didn###t work Taking ##...       1\n",
              "84894  I had vivid dream on Depakote I normally don##...       1\n",
              "42222                    The only drug that works for me      10\n",
              "42539  Yes it works but ever since I started taking i...       4\n",
              "58797  I love my Mirena I###m due in February to take...      10"
            ],
            "text/html": [
              "\n",
              "  <div id=\"df-21eb8b56-6a8b-444d-8a50-c045666b7ee1\">\n",
              "    <div class=\"colab-df-container\">\n",
              "      <div>\n",
              "<style scoped>\n",
              "    .dataframe tbody tr th:only-of-type {\n",
              "        vertical-align: middle;\n",
              "    }\n",
              "\n",
              "    .dataframe tbody tr th {\n",
              "        vertical-align: top;\n",
              "    }\n",
              "\n",
              "    .dataframe thead th {\n",
              "        text-align: right;\n",
              "    }\n",
              "</style>\n",
              "<table border=\"1\" class=\"dataframe\">\n",
              "  <thead>\n",
              "    <tr style=\"text-align: right;\">\n",
              "      <th></th>\n",
              "      <th>review</th>\n",
              "      <th>rating</th>\n",
              "    </tr>\n",
              "  </thead>\n",
              "  <tbody>\n",
              "    <tr>\n",
              "      <th>6501</th>\n",
              "      <td>Started on ## mg which didn###t work Taking ##...</td>\n",
              "      <td>1</td>\n",
              "    </tr>\n",
              "    <tr>\n",
              "      <th>84894</th>\n",
              "      <td>I had vivid dream on Depakote I normally don##...</td>\n",
              "      <td>1</td>\n",
              "    </tr>\n",
              "    <tr>\n",
              "      <th>42222</th>\n",
              "      <td>The only drug that works for me</td>\n",
              "      <td>10</td>\n",
              "    </tr>\n",
              "    <tr>\n",
              "      <th>42539</th>\n",
              "      <td>Yes it works but ever since I started taking i...</td>\n",
              "      <td>4</td>\n",
              "    </tr>\n",
              "    <tr>\n",
              "      <th>58797</th>\n",
              "      <td>I love my Mirena I###m due in February to take...</td>\n",
              "      <td>10</td>\n",
              "    </tr>\n",
              "  </tbody>\n",
              "</table>\n",
              "</div>\n",
              "      <button class=\"colab-df-convert\" onclick=\"convertToInteractive('df-21eb8b56-6a8b-444d-8a50-c045666b7ee1')\"\n",
              "              title=\"Convert this dataframe to an interactive table.\"\n",
              "              style=\"display:none;\">\n",
              "        \n",
              "  <svg xmlns=\"http://www.w3.org/2000/svg\" height=\"24px\"viewBox=\"0 0 24 24\"\n",
              "       width=\"24px\">\n",
              "    <path d=\"M0 0h24v24H0V0z\" fill=\"none\"/>\n",
              "    <path d=\"M18.56 5.44l.94 2.06.94-2.06 2.06-.94-2.06-.94-.94-2.06-.94 2.06-2.06.94zm-11 1L8.5 8.5l.94-2.06 2.06-.94-2.06-.94L8.5 2.5l-.94 2.06-2.06.94zm10 10l.94 2.06.94-2.06 2.06-.94-2.06-.94-.94-2.06-.94 2.06-2.06.94z\"/><path d=\"M17.41 7.96l-1.37-1.37c-.4-.4-.92-.59-1.43-.59-.52 0-1.04.2-1.43.59L10.3 9.45l-7.72 7.72c-.78.78-.78 2.05 0 2.83L4 21.41c.39.39.9.59 1.41.59.51 0 1.02-.2 1.41-.59l7.78-7.78 2.81-2.81c.8-.78.8-2.07 0-2.86zM5.41 20L4 18.59l7.72-7.72 1.47 1.35L5.41 20z\"/>\n",
              "  </svg>\n",
              "      </button>\n",
              "      \n",
              "  <style>\n",
              "    .colab-df-container {\n",
              "      display:flex;\n",
              "      flex-wrap:wrap;\n",
              "      gap: 12px;\n",
              "    }\n",
              "\n",
              "    .colab-df-convert {\n",
              "      background-color: #E8F0FE;\n",
              "      border: none;\n",
              "      border-radius: 50%;\n",
              "      cursor: pointer;\n",
              "      display: none;\n",
              "      fill: #1967D2;\n",
              "      height: 32px;\n",
              "      padding: 0 0 0 0;\n",
              "      width: 32px;\n",
              "    }\n",
              "\n",
              "    .colab-df-convert:hover {\n",
              "      background-color: #E2EBFA;\n",
              "      box-shadow: 0px 1px 2px rgba(60, 64, 67, 0.3), 0px 1px 3px 1px rgba(60, 64, 67, 0.15);\n",
              "      fill: #174EA6;\n",
              "    }\n",
              "\n",
              "    [theme=dark] .colab-df-convert {\n",
              "      background-color: #3B4455;\n",
              "      fill: #D2E3FC;\n",
              "    }\n",
              "\n",
              "    [theme=dark] .colab-df-convert:hover {\n",
              "      background-color: #434B5C;\n",
              "      box-shadow: 0px 1px 3px 1px rgba(0, 0, 0, 0.15);\n",
              "      filter: drop-shadow(0px 1px 2px rgba(0, 0, 0, 0.3));\n",
              "      fill: #FFFFFF;\n",
              "    }\n",
              "  </style>\n",
              "\n",
              "      <script>\n",
              "        const buttonEl =\n",
              "          document.querySelector('#df-21eb8b56-6a8b-444d-8a50-c045666b7ee1 button.colab-df-convert');\n",
              "        buttonEl.style.display =\n",
              "          google.colab.kernel.accessAllowed ? 'block' : 'none';\n",
              "\n",
              "        async function convertToInteractive(key) {\n",
              "          const element = document.querySelector('#df-21eb8b56-6a8b-444d-8a50-c045666b7ee1');\n",
              "          const dataTable =\n",
              "            await google.colab.kernel.invokeFunction('convertToInteractive',\n",
              "                                                     [key], {});\n",
              "          if (!dataTable) return;\n",
              "\n",
              "          const docLinkHtml = 'Like what you see? Visit the ' +\n",
              "            '<a target=\"_blank\" href=https://colab.research.google.com/notebooks/data_table.ipynb>data table notebook</a>'\n",
              "            + ' to learn more about interactive tables.';\n",
              "          element.innerHTML = '';\n",
              "          dataTable['output_type'] = 'display_data';\n",
              "          await google.colab.output.renderOutput(dataTable, element);\n",
              "          const docLink = document.createElement('div');\n",
              "          docLink.innerHTML = docLinkHtml;\n",
              "          element.appendChild(docLink);\n",
              "        }\n",
              "      </script>\n",
              "    </div>\n",
              "  </div>\n",
              "  "
            ]
          },
          "metadata": {},
          "execution_count": 36
        }
      ]
    },
    {
      "cell_type": "code",
      "source": [
        "train_features = train_rate.copy()\n",
        "test_features = test_rate.copy()\n",
        "\n",
        "train_labels = train_features.pop('rating')\n",
        "test_labels = test_features.pop('rating')"
      ],
      "metadata": {
        "id": "shR5ednNT90c"
      },
      "execution_count": 37,
      "outputs": []
    },
    {
      "cell_type": "markdown",
      "source": [
        "### Training the model "
      ],
      "metadata": {
        "id": "tHDf-ujiglaZ"
      }
    },
    {
      "cell_type": "code",
      "source": [
        "history = model.fit(\n",
        "    train_features['review'],\n",
        "    train_labels,\n",
        "    batch_size= 512,\n",
        "    epochs=4,\n",
        "    # Suppress logging.\n",
        "    verbose=1,\n",
        "    # Calculate validation results on 20% of the training data.\n",
        "    validation_split = 0.2)"
      ],
      "metadata": {
        "id": "RiXe3cryUhiJ",
        "colab": {
          "base_uri": "https://localhost:8080/"
        },
        "outputId": "e2354b43-f52b-4716-a8a2-dad3815e6914"
      },
      "execution_count": 38,
      "outputs": [
        {
          "output_type": "stream",
          "name": "stdout",
          "text": [
            "Epoch 1/4\n",
            "268/268 [==============================] - 895s 3s/step - loss: 3.4988 - accuracy: 0.1250 - mse: 19.0769 - val_loss: 1.9427 - val_accuracy: 0.1352 - val_mse: 5.8942\n",
            "Epoch 2/4\n",
            "268/268 [==============================] - 893s 3s/step - loss: 2.4670 - accuracy: 0.1331 - mse: 9.8932 - val_loss: 1.8650 - val_accuracy: 0.1352 - val_mse: 5.7108\n",
            "Epoch 3/4\n",
            "268/268 [==============================] - 879s 3s/step - loss: 2.2328 - accuracy: 0.1334 - mse: 8.3932 - val_loss: 1.6502 - val_accuracy: 0.1352 - val_mse: 5.1221\n",
            "Epoch 4/4\n",
            "268/268 [==============================] - 881s 3s/step - loss: 2.1094 - accuracy: 0.1334 - mse: 7.6482 - val_loss: 1.6978 - val_accuracy: 0.1352 - val_mse: 5.3213\n"
          ]
        }
      ]
    },
    {
      "cell_type": "code",
      "source": [
        "results = model.evaluate(test_features,  verbose = 2)"
      ],
      "metadata": {
        "id": "ZnUOEe2VUhoI",
        "colab": {
          "base_uri": "https://localhost:8080/"
        },
        "outputId": "d1d428d0-abde-434b-9e14-aca5387178a1"
      },
      "execution_count": 39,
      "outputs": [
        {
          "output_type": "stream",
          "name": "stdout",
          "text": [
            "801/801 - 1s - loss: 0.0000e+00 - accuracy: 0.0000e+00 - mse: 0.0000e+00 - 1s/epoch - 2ms/step\n"
          ]
        }
      ]
    },
    {
      "cell_type": "code",
      "source": [
        "pred = model(test_features.pop('review'))\n",
        "preds = np.round(pred[:,0]).astype(int)\n"
      ],
      "metadata": {
        "id": "cArz4quqUhri"
      },
      "execution_count": 40,
      "outputs": []
    },
    {
      "cell_type": "markdown",
      "source": [
        "## Accuracy of the Regression Model\n",
        "\n",
        "---\n",
        "\n",
        "\n",
        "\n",
        "---\n",
        "\n"
      ],
      "metadata": {
        "id": "KE6ZiMUxsxPS"
      }
    },
    {
      "cell_type": "code",
      "source": [
        "print('accuracy score', r2_score(test_labels, preds))\n"
      ],
      "metadata": {
        "id": "Miar0i3jTNTK",
        "colab": {
          "base_uri": "https://localhost:8080/"
        },
        "outputId": "bdcb0b3b-76aa-423f-9226-80b8a1ce1240"
      },
      "execution_count": 41,
      "outputs": [
        {
          "output_type": "stream",
          "name": "stdout",
          "text": [
            "accuracy score 0.49531061741321725\n"
          ]
        }
      ]
    },
    {
      "cell_type": "markdown",
      "source": [
        "## 2. To predict the popular condition based on the review \n"
      ],
      "metadata": {
        "id": "24radSUqVRia"
      }
    },
    {
      "cell_type": "code",
      "source": [
        "df['len'] = df['review'].apply(lambda x : len(x))"
      ],
      "metadata": {
        "id": "0myzRtN7VJa4"
      },
      "execution_count": 14,
      "outputs": []
    },
    {
      "cell_type": "markdown",
      "source": [
        "Checking the no. of word are used in review "
      ],
      "metadata": {
        "id": "vywj7LRRhheF"
      }
    },
    {
      "cell_type": "code",
      "source": [
        "df['len'].hist(bins= 100)"
      ],
      "metadata": {
        "id": "EgZeOUNkVJd3",
        "colab": {
          "base_uri": "https://localhost:8080/",
          "height": 282
        },
        "outputId": "d8d9b25a-676c-49ea-f7a6-33d7bc514db9"
      },
      "execution_count": 15,
      "outputs": [
        {
          "output_type": "execute_result",
          "data": {
            "text/plain": [
              "<Axes: >"
            ]
          },
          "metadata": {},
          "execution_count": 15
        },
        {
          "output_type": "display_data",
          "data": {
            "text/plain": [
              "<Figure size 432x288 with 1 Axes>"
            ],
            "image/png": "[encoded data removed]"
          },
          "metadata": {
            "needs_background": "light"
          }
        }
      ]
    },
    {
      "cell_type": "code",
      "source": [
        "df.len.quantile(0.9)"
      ],
      "metadata": {
        "id": "ETJQJqaRVJgv"
      },
      "execution_count": null,
      "outputs": []
    },
    {
      "cell_type": "markdown",
      "source": [
        "# Preprocessing of conditions"
      ],
      "metadata": {
        "id": "zF4CG0AQVJj7"
      }
    },
    {
      "cell_type": "code",
      "source": [
        "count_df = df[['review' , 'condition']].groupby('condition').aggregate({'review': 'count'}).reset_index().sort_values('review' ,ascending = False )"
      ],
      "metadata": {
        "id": "KsOSqaB0ZwFG"
      },
      "execution_count": 16,
      "outputs": []
    },
    {
      "cell_type": "code",
      "source": [
        "len(count_df)"
      ],
      "metadata": {
        "id": "D45atDdOVJqe",
        "colab": {
          "base_uri": "https://localhost:8080/"
        },
        "outputId": "edde1915-eef5-4a5e-d42f-fe1bdeed07c1"
      },
      "execution_count": 17,
      "outputs": [
        {
          "output_type": "execute_result",
          "data": {
            "text/plain": [
              "916"
            ]
          },
          "metadata": {},
          "execution_count": 17
        }
      ]
    },
    {
      "cell_type": "code",
      "source": [
        "count_df.head()"
      ],
      "metadata": {
        "id": "Ckjczp7mV7RS",
        "colab": {
          "base_uri": "https://localhost:8080/",
          "height": 206
        },
        "outputId": "75c0830c-a218-409d-f087-fdf9fdf9a645"
      },
      "execution_count": 18,
      "outputs": [
        {
          "output_type": "execute_result",
          "data": {
            "text/plain": [
              "         condition  review\n",
              "175  Birth Control   38436\n",
              "273     Depression   12164\n",
              "613           Pain    8245\n",
              "133        Anxiety    7812\n",
              "87            Acne    7435"
            ],
            "text/html": [
              "\n",
              "  <div id=\"df-8c520914-20f8-4473-a079-b7e47186f05a\">\n",
              "    <div class=\"colab-df-container\">\n",
              "      <div>\n",
              "<style scoped>\n",
              "    .dataframe tbody tr th:only-of-type {\n",
              "        vertical-align: middle;\n",
              "    }\n",
              "\n",
              "    .dataframe tbody tr th {\n",
              "        vertical-align: top;\n",
              "    }\n",
              "\n",
              "    .dataframe thead th {\n",
              "        text-align: right;\n",
              "    }\n",
              "</style>\n",
              "<table border=\"1\" class=\"dataframe\">\n",
              "  <thead>\n",
              "    <tr style=\"text-align: right;\">\n",
              "      <th></th>\n",
              "      <th>condition</th>\n",
              "      <th>review</th>\n",
              "    </tr>\n",
              "  </thead>\n",
              "  <tbody>\n",
              "    <tr>\n",
              "      <th>175</th>\n",
              "      <td>Birth Control</td>\n",
              "      <td>38436</td>\n",
              "    </tr>\n",
              "    <tr>\n",
              "      <th>273</th>\n",
              "      <td>Depression</td>\n",
              "      <td>12164</td>\n",
              "    </tr>\n",
              "    <tr>\n",
              "      <th>613</th>\n",
              "      <td>Pain</td>\n",
              "      <td>8245</td>\n",
              "    </tr>\n",
              "    <tr>\n",
              "      <th>133</th>\n",
              "      <td>Anxiety</td>\n",
              "      <td>7812</td>\n",
              "    </tr>\n",
              "    <tr>\n",
              "      <th>87</th>\n",
              "      <td>Acne</td>\n",
              "      <td>7435</td>\n",
              "    </tr>\n",
              "  </tbody>\n",
              "</table>\n",
              "</div>\n",
              "      <button class=\"colab-df-convert\" onclick=\"convertToInteractive('df-8c520914-20f8-4473-a079-b7e47186f05a')\"\n",
              "              title=\"Convert this dataframe to an interactive table.\"\n",
              "              style=\"display:none;\">\n",
              "        \n",
              "  <svg xmlns=\"http://www.w3.org/2000/svg\" height=\"24px\"viewBox=\"0 0 24 24\"\n",
              "       width=\"24px\">\n",
              "    <path d=\"M0 0h24v24H0V0z\" fill=\"none\"/>\n",
              "    <path d=\"M18.56 5.44l.94 2.06.94-2.06 2.06-.94-2.06-.94-.94-2.06-.94 2.06-2.06.94zm-11 1L8.5 8.5l.94-2.06 2.06-.94-2.06-.94L8.5 2.5l-.94 2.06-2.06.94zm10 10l.94 2.06.94-2.06 2.06-.94-2.06-.94-.94-2.06-.94 2.06-2.06.94z\"/><path d=\"M17.41 7.96l-1.37-1.37c-.4-.4-.92-.59-1.43-.59-.52 0-1.04.2-1.43.59L10.3 9.45l-7.72 7.72c-.78.78-.78 2.05 0 2.83L4 21.41c.39.39.9.59 1.41.59.51 0 1.02-.2 1.41-.59l7.78-7.78 2.81-2.81c.8-.78.8-2.07 0-2.86zM5.41 20L4 18.59l7.72-7.72 1.47 1.35L5.41 20z\"/>\n",
              "  </svg>\n",
              "      </button>\n",
              "      \n",
              "  <style>\n",
              "    .colab-df-container {\n",
              "      display:flex;\n",
              "      flex-wrap:wrap;\n",
              "      gap: 12px;\n",
              "    }\n",
              "\n",
              "    .colab-df-convert {\n",
              "      background-color: #E8F0FE;\n",
              "      border: none;\n",
              "      border-radius: 50%;\n",
              "      cursor: pointer;\n",
              "      display: none;\n",
              "      fill: #1967D2;\n",
              "      height: 32px;\n",
              "      padding: 0 0 0 0;\n",
              "      width: 32px;\n",
              "    }\n",
              "\n",
              "    .colab-df-convert:hover {\n",
              "      background-color: #E2EBFA;\n",
              "      box-shadow: 0px 1px 2px rgba(60, 64, 67, 0.3), 0px 1px 3px 1px rgba(60, 64, 67, 0.15);\n",
              "      fill: #174EA6;\n",
              "    }\n",
              "\n",
              "    [theme=dark] .colab-df-convert {\n",
              "      background-color: #3B4455;\n",
              "      fill: #D2E3FC;\n",
              "    }\n",
              "\n",
              "    [theme=dark] .colab-df-convert:hover {\n",
              "      background-color: #434B5C;\n",
              "      box-shadow: 0px 1px 3px 1px rgba(0, 0, 0, 0.15);\n",
              "      filter: drop-shadow(0px 1px 2px rgba(0, 0, 0, 0.3));\n",
              "      fill: #FFFFFF;\n",
              "    }\n",
              "  </style>\n",
              "\n",
              "      <script>\n",
              "        const buttonEl =\n",
              "          document.querySelector('#df-8c520914-20f8-4473-a079-b7e47186f05a button.colab-df-convert');\n",
              "        buttonEl.style.display =\n",
              "          google.colab.kernel.accessAllowed ? 'block' : 'none';\n",
              "\n",
              "        async function convertToInteractive(key) {\n",
              "          const element = document.querySelector('#df-8c520914-20f8-4473-a079-b7e47186f05a');\n",
              "          const dataTable =\n",
              "            await google.colab.kernel.invokeFunction('convertToInteractive',\n",
              "                                                     [key], {});\n",
              "          if (!dataTable) return;\n",
              "\n",
              "          const docLinkHtml = 'Like what you see? Visit the ' +\n",
              "            '<a target=\"_blank\" href=https://colab.research.google.com/notebooks/data_table.ipynb>data table notebook</a>'\n",
              "            + ' to learn more about interactive tables.';\n",
              "          element.innerHTML = '';\n",
              "          dataTable['output_type'] = 'display_data';\n",
              "          await google.colab.output.renderOutput(dataTable, element);\n",
              "          const docLink = document.createElement('div');\n",
              "          docLink.innerHTML = docLinkHtml;\n",
              "          element.appendChild(docLink);\n",
              "        }\n",
              "      </script>\n",
              "    </div>\n",
              "  </div>\n",
              "  "
            ]
          },
          "metadata": {},
          "execution_count": 18
        }
      ]
    },
    {
      "cell_type": "markdown",
      "source": [
        "### Taking only the highest condition which has the more than the 2500 reviews for the efficiently model learning"
      ],
      "metadata": {
        "id": "pkfSUMaJh94t"
      }
    },
    {
      "cell_type": "code",
      "source": [
        "target_condition = count_df[count_df['review']> 2500]['condition'].values"
      ],
      "metadata": {
        "id": "iKoOLKOlV7Ud"
      },
      "execution_count": 19,
      "outputs": []
    },
    {
      "cell_type": "code",
      "source": [
        "len(target_condition)"
      ],
      "metadata": {
        "id": "zs8oTHUHV7Xo",
        "colab": {
          "base_uri": "https://localhost:8080/"
        },
        "outputId": "36333d5f-ebf7-4dc9-d53d-9cc6a0e02c0f"
      },
      "execution_count": 20,
      "outputs": [
        {
          "output_type": "execute_result",
          "data": {
            "text/plain": [
              "15"
            ]
          },
          "metadata": {},
          "execution_count": 20
        }
      ]
    },
    {
      "cell_type": "code",
      "source": [
        "def condition_parser(x):\n",
        "    if x in target_condition:\n",
        "      return x\n",
        "    else:\n",
        "      return 'OTHER'  \n",
        "\n",
        "df['condition'] = df['condition'].apply(lambda x : condition_parser(x))"
      ],
      "metadata": {
        "id": "1ChhS9NbV7a-"
      },
      "execution_count": 21,
      "outputs": []
    },
    {
      "cell_type": "code",
      "source": [
        "len(df)"
      ],
      "metadata": {
        "id": "8jNVNw9qWIkH",
        "colab": {
          "base_uri": "https://localhost:8080/"
        },
        "outputId": "6b05d8cd-5b0b-43b1-891e-960ce9c74145"
      },
      "execution_count": 22,
      "outputs": [
        {
          "output_type": "execute_result",
          "data": {
            "text/plain": [
              "213869"
            ]
          },
          "metadata": {},
          "execution_count": 22
        }
      ]
    },
    {
      "cell_type": "code",
      "source": [
        "data = df[df['condition'] != 'OTHER']"
      ],
      "metadata": {
        "id": "zGZAEIdFWInH"
      },
      "execution_count": 23,
      "outputs": []
    },
    {
      "cell_type": "code",
      "source": [
        "data.shape"
      ],
      "metadata": {
        "id": "yvKgZRm-WIqA",
        "colab": {
          "base_uri": "https://localhost:8080/"
        },
        "outputId": "6e73a866-2d27-4351-d453-a6ea7322940c"
      },
      "execution_count": 24,
      "outputs": [
        {
          "output_type": "execute_result",
          "data": {
            "text/plain": [
              "(114308, 5)"
            ]
          },
          "metadata": {},
          "execution_count": 24
        }
      ]
    },
    {
      "cell_type": "code",
      "source": [
        "import plotly.express as px"
      ],
      "metadata": {
        "id": "DTvJDX8pWItm"
      },
      "execution_count": 25,
      "outputs": []
    },
    {
      "cell_type": "code",
      "source": [
        "px.bar(count_df[count_df['review']> 2500], x = 'condition' , y='review') "
      ],
      "metadata": {
        "id": "4ry94NmrWVyt",
        "colab": {
          "base_uri": "https://localhost:8080/",
          "height": 542
        },
        "outputId": "45d10f2b-e3f2-4ed4-bfaa-07a6dde01cd9"
      },
      "execution_count": 26,
      "outputs": [
        {
          "output_type": "display_data",
          "data": {
            "text/html": [
              "<html>\n",
              "<head><meta charset=\"utf-8\" /></head>\n",
              "<body>\n",
              "    <div>            <script src=\"https://cdnjs.cloudflare.com/ajax/libs/mathjax/2.7.5/MathJax.js?config=TeX-AMS-MML_SVG\"></script><script type=\"text/javascript\">if (window.MathJax) {MathJax.Hub.Config({SVG: {font: \"STIX-Web\"}});}</script>                <script type=\"text/javascript\">window.PlotlyConfig = {MathJaxConfig: 'local'};</script>\n",
              "        <script src=\"https://cdn.plot.ly/plotly-2.8.3.min.js\"></script>                <div id=\"e4742b24-fc55-43f8-90eb-bead5c05e6c6\" class=\"plotly-graph-div\" style=\"height:525px; width:100%;\"></div>            <script type=\"text/javascript\">                                    window.PLOTLYENV=window.PLOTLYENV || {};                                    if (document.getElementById(\"e4742b24-fc55-43f8-90eb-bead5c05e6c6\")) {                    Plotly.newPlot(                        \"e4742b24-fc55-43f8-90eb-bead5c05e6c6\",                        [{\"alignmentgroup\":\"True\",\"hovertemplate\":\"condition=%{x}<br>review=%{y}<extra></extra>\",\"legendgroup\":\"\",\"marker\":{\"color\":\"#636efa\",\"pattern\":{\"shape\":\"\"}},\"name\":\"\",\"offsetgroup\":\"\",\"orientation\":\"v\",\"showlegend\":false,\"textposition\":\"auto\",\"x\":[\"Birth Control\",\"Depression\",\"Pain\",\"Anxiety\",\"Acne\",\"Bipolar Disorde\",\"Insomnia\",\"Weight Loss\",\"Obesity\",\"ADHD\",\"Diabetes, Type 2\",\"Emergency Contraception\",\"High Blood Pressure\",\"Vaginal Yeast Infection\",\"Abnormal Uterine Bleeding\"],\"xaxis\":\"x\",\"y\":[38436,12164,8245,7812,7435,5604,4904,4857,4757,4509,3362,3290,3104,3085,2744],\"yaxis\":\"y\",\"type\":\"bar\"}],                        {\"template\":{\"data\":{\"bar\":[{\"error_x\":{\"color\":\"#2a3f5f\"},\"error_y\":{\"color\":\"#2a3f5f\"},\"marker\":{\"line\":{\"color\":\"#E5ECF6\",\"width\":0.5},\"pattern\":{\"fillmode\":\"overlay\",\"size\":10,\"solidity\":0.2}},\"type\":\"bar\"}],\"barpolar\":[{\"marker\":{\"line\":{\"color\":\"#E5ECF6\",\"width\":0.5},\"pattern\":{\"fillmode\":\"overlay\",\"size\":10,\"solidity\":0.2}},\"type\":\"barpolar\"}],\"carpet\":[{\"aaxis\":{\"endlinecolor\":\"#2a3f5f\",\"gridcolor\":\"white\",\"linecolor\":\"white\",\"minorgridcolor\":\"white\",\"startlinecolor\":\"#2a3f5f\"},\"baxis\":{\"endlinecolor\":\"#2a3f5f\",\"gridcolor\":\"white\",\"linecolor\":\"white\",\"minorgridcolor\":\"white\",\"startlinecolor\":\"#2a3f5f\"},\"type\":\"carpet\"}],\"choropleth\":[{\"colorbar\":{\"outlinewidth\":0,\"ticks\":\"\"},\"type\":\"choropleth\"}],\"contour\":[{\"colorbar\":{\"outlinewidth\":0,\"ticks\":\"\"},\"colorscale\":[[0.0,\"#0d0887\"],[0.1111111111111111,\"#46039f\"],[0.2222222222222222,\"#7201a8\"],[0.3333333333333333,\"#9c179e\"],[0.4444444444444444,\"#bd3786\"],[0.5555555555555556,\"#d8576b\"],[0.6666666666666666,\"#ed7953\"],[0.7777777777777778,\"#fb9f3a\"],[0.8888888888888888,\"#fdca26\"],[1.0,\"#f0f921\"]],\"type\":\"contour\"}],\"contourcarpet\":[{\"colorbar\":{\"outlinewidth\":0,\"ticks\":\"\"},\"type\":\"contourcarpet\"}],\"heatmap\":[{\"colorbar\":{\"outlinewidth\":0,\"ticks\":\"\"},\"colorscale\":[[0.0,\"#0d0887\"],[0.1111111111111111,\"#46039f\"],[0.2222222222222222,\"#7201a8\"],[0.3333333333333333,\"#9c179e\"],[0.4444444444444444,\"#bd3786\"],[0.5555555555555556,\"#d8576b\"],[0.6666666666666666,\"#ed7953\"],[0.7777777777777778,\"#fb9f3a\"],[0.8888888888888888,\"#fdca26\"],[1.0,\"#f0f921\"]],\"type\":\"heatmap\"}],\"heatmapgl\":[{\"colorbar\":{\"outlinewidth\":0,\"ticks\":\"\"},\"colorscale\":[[0.0,\"#0d0887\"],[0.1111111111111111,\"#46039f\"],[0.2222222222222222,\"#7201a8\"],[0.3333333333333333,\"#9c179e\"],[0.4444444444444444,\"#bd3786\"],[0.5555555555555556,\"#d8576b\"],[0.6666666666666666,\"#ed7953\"],[0.7777777777777778,\"#fb9f3a\"],[0.8888888888888888,\"#fdca26\"],[1.0,\"#f0f921\"]],\"type\":\"heatmapgl\"}],\"histogram\":[{\"marker\":{\"pattern\":{\"fillmode\":\"overlay\",\"size\":10,\"solidity\":0.2}},\"type\":\"histogram\"}],\"histogram2d\":[{\"colorbar\":{\"outlinewidth\":0,\"ticks\":\"\"},\"colorscale\":[[0.0,\"#0d0887\"],[0.1111111111111111,\"#46039f\"],[0.2222222222222222,\"#7201a8\"],[0.3333333333333333,\"#9c179e\"],[0.4444444444444444,\"#bd3786\"],[0.5555555555555556,\"#d8576b\"],[0.6666666666666666,\"#ed7953\"],[0.7777777777777778,\"#fb9f3a\"],[0.8888888888888888,\"#fdca26\"],[1.0,\"#f0f921\"]],\"type\":\"histogram2d\"}],\"histogram2dcontour\":[{\"colorbar\":{\"outlinewidth\":0,\"ticks\":\"\"},\"colorscale\":[[0.0,\"#0d0887\"],[0.1111111111111111,\"#46039f\"],[0.2222222222222222,\"#7201a8\"],[0.3333333333333333,\"#9c179e\"],[0.4444444444444444,\"#bd3786\"],[0.5555555555555556,\"#d8576b\"],[0.6666666666666666,\"#ed7953\"],[0.7777777777777778,\"#fb9f3a\"],[0.8888888888888888,\"#fdca26\"],[1.0,\"#f0f921\"]],\"type\":\"histogram2dcontour\"}],\"mesh3d\":[{\"colorbar\":{\"outlinewidth\":0,\"ticks\":\"\"},\"type\":\"mesh3d\"}],\"parcoords\":[{\"line\":{\"colorbar\":{\"outlinewidth\":0,\"ticks\":\"\"}},\"type\":\"parcoords\"}],\"pie\":[{\"automargin\":true,\"type\":\"pie\"}],\"scatter\":[{\"marker\":{\"colorbar\":{\"outlinewidth\":0,\"ticks\":\"\"}},\"type\":\"scatter\"}],\"scatter3d\":[{\"line\":{\"colorbar\":{\"outlinewidth\":0,\"ticks\":\"\"}},\"marker\":{\"colorbar\":{\"outlinewidth\":0,\"ticks\":\"\"}},\"type\":\"scatter3d\"}],\"scattercarpet\":[{\"marker\":{\"colorbar\":{\"outlinewidth\":0,\"ticks\":\"\"}},\"type\":\"scattercarpet\"}],\"scattergeo\":[{\"marker\":{\"colorbar\":{\"outlinewidth\":0,\"ticks\":\"\"}},\"type\":\"scattergeo\"}],\"scattergl\":[{\"marker\":{\"colorbar\":{\"outlinewidth\":0,\"ticks\":\"\"}},\"type\":\"scattergl\"}],\"scattermapbox\":[{\"marker\":{\"colorbar\":{\"outlinewidth\":0,\"ticks\":\"\"}},\"type\":\"scattermapbox\"}],\"scatterpolar\":[{\"marker\":{\"colorbar\":{\"outlinewidth\":0,\"ticks\":\"\"}},\"type\":\"scatterpolar\"}],\"scatterpolargl\":[{\"marker\":{\"colorbar\":{\"outlinewidth\":0,\"ticks\":\"\"}},\"type\":\"scatterpolargl\"}],\"scatterternary\":[{\"marker\":{\"colorbar\":{\"outlinewidth\":0,\"ticks\":\"\"}},\"type\":\"scatterternary\"}],\"surface\":[{\"colorbar\":{\"outlinewidth\":0,\"ticks\":\"\"},\"colorscale\":[[0.0,\"#0d0887\"],[0.1111111111111111,\"#46039f\"],[0.2222222222222222,\"#7201a8\"],[0.3333333333333333,\"#9c179e\"],[0.4444444444444444,\"#bd3786\"],[0.5555555555555556,\"#d8576b\"],[0.6666666666666666,\"#ed7953\"],[0.7777777777777778,\"#fb9f3a\"],[0.8888888888888888,\"#fdca26\"],[1.0,\"#f0f921\"]],\"type\":\"surface\"}],\"table\":[{\"cells\":{\"fill\":{\"color\":\"#EBF0F8\"},\"line\":{\"color\":\"white\"}},\"header\":{\"fill\":{\"color\":\"#C8D4E3\"},\"line\":{\"color\":\"white\"}},\"type\":\"table\"}]},\"layout\":{\"annotationdefaults\":{\"arrowcolor\":\"#2a3f5f\",\"arrowhead\":0,\"arrowwidth\":1},\"autotypenumbers\":\"strict\",\"coloraxis\":{\"colorbar\":{\"outlinewidth\":0,\"ticks\":\"\"}},\"colorscale\":{\"diverging\":[[0,\"#8e0152\"],[0.1,\"#c51b7d\"],[0.2,\"#de77ae\"],[0.3,\"#f1b6da\"],[0.4,\"#fde0ef\"],[0.5,\"#f7f7f7\"],[0.6,\"#e6f5d0\"],[0.7,\"#b8e186\"],[0.8,\"#7fbc41\"],[0.9,\"#4d9221\"],[1,\"#276419\"]],\"sequential\":[[0.0,\"#0d0887\"],[0.1111111111111111,\"#46039f\"],[0.2222222222222222,\"#7201a8\"],[0.3333333333333333,\"#9c179e\"],[0.4444444444444444,\"#bd3786\"],[0.5555555555555556,\"#d8576b\"],[0.6666666666666666,\"#ed7953\"],[0.7777777777777778,\"#fb9f3a\"],[0.8888888888888888,\"#fdca26\"],[1.0,\"#f0f921\"]],\"sequentialminus\":[[0.0,\"#0d0887\"],[0.1111111111111111,\"#46039f\"],[0.2222222222222222,\"#7201a8\"],[0.3333333333333333,\"#9c179e\"],[0.4444444444444444,\"#bd3786\"],[0.5555555555555556,\"#d8576b\"],[0.6666666666666666,\"#ed7953\"],[0.7777777777777778,\"#fb9f3a\"],[0.8888888888888888,\"#fdca26\"],[1.0,\"#f0f921\"]]},\"colorway\":[\"#636efa\",\"#EF553B\",\"#00cc96\",\"#ab63fa\",\"#FFA15A\",\"#19d3f3\",\"#FF6692\",\"#B6E880\",\"#FF97FF\",\"#FECB52\"],\"font\":{\"color\":\"#2a3f5f\"},\"geo\":{\"bgcolor\":\"white\",\"lakecolor\":\"white\",\"landcolor\":\"#E5ECF6\",\"showlakes\":true,\"showland\":true,\"subunitcolor\":\"white\"},\"hoverlabel\":{\"align\":\"left\"},\"hovermode\":\"closest\",\"mapbox\":{\"style\":\"light\"},\"paper_bgcolor\":\"white\",\"plot_bgcolor\":\"#E5ECF6\",\"polar\":{\"angularaxis\":{\"gridcolor\":\"white\",\"linecolor\":\"white\",\"ticks\":\"\"},\"bgcolor\":\"#E5ECF6\",\"radialaxis\":{\"gridcolor\":\"white\",\"linecolor\":\"white\",\"ticks\":\"\"}},\"scene\":{\"xaxis\":{\"backgroundcolor\":\"#E5ECF6\",\"gridcolor\":\"white\",\"gridwidth\":2,\"linecolor\":\"white\",\"showbackground\":true,\"ticks\":\"\",\"zerolinecolor\":\"white\"},\"yaxis\":{\"backgroundcolor\":\"#E5ECF6\",\"gridcolor\":\"white\",\"gridwidth\":2,\"linecolor\":\"white\",\"showbackground\":true,\"ticks\":\"\",\"zerolinecolor\":\"white\"},\"zaxis\":{\"backgroundcolor\":\"#E5ECF6\",\"gridcolor\":\"white\",\"gridwidth\":2,\"linecolor\":\"white\",\"showbackground\":true,\"ticks\":\"\",\"zerolinecolor\":\"white\"}},\"shapedefaults\":{\"line\":{\"color\":\"#2a3f5f\"}},\"ternary\":{\"aaxis\":{\"gridcolor\":\"white\",\"linecolor\":\"white\",\"ticks\":\"\"},\"baxis\":{\"gridcolor\":\"white\",\"linecolor\":\"white\",\"ticks\":\"\"},\"bgcolor\":\"#E5ECF6\",\"caxis\":{\"gridcolor\":\"white\",\"linecolor\":\"white\",\"ticks\":\"\"}},\"title\":{\"x\":0.05},\"xaxis\":{\"automargin\":true,\"gridcolor\":\"white\",\"linecolor\":\"white\",\"ticks\":\"\",\"title\":{\"standoff\":15},\"zerolinecolor\":\"white\",\"zerolinewidth\":2},\"yaxis\":{\"automargin\":true,\"gridcolor\":\"white\",\"linecolor\":\"white\",\"ticks\":\"\",\"title\":{\"standoff\":15},\"zerolinecolor\":\"white\",\"zerolinewidth\":2}}},\"xaxis\":{\"anchor\":\"y\",\"domain\":[0.0,1.0],\"title\":{\"text\":\"condition\"}},\"yaxis\":{\"anchor\":\"x\",\"domain\":[0.0,1.0],\"title\":{\"text\":\"review\"}},\"legend\":{\"tracegroupgap\":0},\"margin\":{\"t\":60},\"barmode\":\"relative\"},                        {\"responsive\": true}                    ).then(function(){\n",
              "                            \n",
              "var gd = document.getElementById('e4742b24-fc55-43f8-90eb-bead5c05e6c6');\n",
              "var x = new MutationObserver(function (mutations, observer) {{\n",
              "        var display = window.getComputedStyle(gd).display;\n",
              "        if (!display || display === 'none') {{\n",
              "            console.log([gd, 'removed!']);\n",
              "            Plotly.purge(gd);\n",
              "            observer.disconnect();\n",
              "        }}\n",
              "}});\n",
              "\n",
              "// Listen for the removal of the full notebook cells\n",
              "var notebookContainer = gd.closest('#notebook-container');\n",
              "if (notebookContainer) {{\n",
              "    x.observe(notebookContainer, {childList: true});\n",
              "}}\n",
              "\n",
              "// Listen for the clearing of the current output cell\n",
              "var outputEl = gd.closest('.output');\n",
              "if (outputEl) {{\n",
              "    x.observe(outputEl, {childList: true});\n",
              "}}\n",
              "\n",
              "                        })                };                            </script>        </div>\n",
              "</body>\n",
              "</html>"
            ]
          },
          "metadata": {}
        }
      ]
    },
    {
      "cell_type": "markdown",
      "source": [
        "### For managing the class weights for the model to learn efficiently"
      ],
      "metadata": {
        "id": "f2HBnCBqiSHF"
      }
    },
    {
      "cell_type": "code",
      "source": [
        "from sklearn.utils import class_weight\n",
        "class_weights = class_weight.compute_class_weight(\n",
        "                                        class_weight = \"balanced\",\n",
        "                                        classes = np.unique(data['condition']),\n",
        "                                        y = data['condition']                                                    \n",
        "                                    )\n",
        "class_weights.sort()"
      ],
      "metadata": {
        "id": "_AeIXhZNWV2F"
      },
      "execution_count": 27,
      "outputs": []
    },
    {
      "cell_type": "code",
      "source": [
        "class_weights"
      ],
      "metadata": {
        "id": "_HI3aDEkWV5H",
        "colab": {
          "base_uri": "https://localhost:8080/"
        },
        "outputId": "fa0eaeaa-00bb-4628-9240-58f05cfbc37b"
      },
      "execution_count": 28,
      "outputs": [
        {
          "output_type": "execute_result",
          "data": {
            "text/plain": [
              "array([0.19826551, 0.62648252, 0.92426117, 0.9754907 , 1.02495405,\n",
              "       1.35983821, 1.55394236, 1.56897948, 1.60196202, 1.69007171,\n",
              "       2.26666667, 2.31627153, 2.45506873, 2.47018909, 2.77716229])"
            ]
          },
          "metadata": {},
          "execution_count": 28
        }
      ]
    },
    {
      "cell_type": "code",
      "source": [
        "weights = {}\n",
        "\n",
        "for index, weight in enumerate(class_weights):\n",
        "  weights[index] = weight"
      ],
      "metadata": {
        "id": "oWTxB0YZWsc1"
      },
      "execution_count": 29,
      "outputs": []
    },
    {
      "cell_type": "code",
      "source": [
        "weights"
      ],
      "metadata": {
        "id": "HQb--g7hWsgF",
        "colab": {
          "base_uri": "https://localhost:8080/"
        },
        "outputId": "34b4b5e8-d41e-4c4e-c7e4-d97c0e85dd9f"
      },
      "execution_count": 30,
      "outputs": [
        {
          "output_type": "execute_result",
          "data": {
            "text/plain": [
              "{0: 0.1982655149686058,\n",
              " 1: 0.6264825167159925,\n",
              " 2: 0.9242611683848797,\n",
              " 3: 0.9754906980713433,\n",
              " 4: 1.024954046177987,\n",
              " 5: 1.3598382108018083,\n",
              " 6: 1.5539423599782491,\n",
              " 7: 1.5689794797886212,\n",
              " 8: 1.601962020881508,\n",
              " 9: 1.690071708434982,\n",
              " 10: 2.2666666666666666,\n",
              " 11: 2.3162715298885512,\n",
              " 12: 2.455068728522337,\n",
              " 13: 2.4701890869800107,\n",
              " 14: 2.777162293488824}"
            ]
          },
          "metadata": {},
          "execution_count": 30
        }
      ]
    },
    {
      "cell_type": "code",
      "source": [
        "train, val , test = np.split(data.sample(frac=1),[int(0.8 * len(data)) , int(0.9 * len(data))])"
      ],
      "metadata": {
        "id": "llO_AliUWV8U"
      },
      "execution_count": 31,
      "outputs": []
    },
    {
      "cell_type": "markdown",
      "source": [
        "### Converting the dataset into the tensor frame"
      ],
      "metadata": {
        "id": "VGWze5F6jCwE"
      }
    },
    {
      "cell_type": "code",
      "source": [
        "train_tf = tf.data.Dataset.from_tensor_slices((train['review'].values ,train['condition'].values ))\n",
        "val_tf = tf.data.Dataset.from_tensor_slices((val['review'].values ,val['condition'].values ))\n",
        "test_tf = tf.data.Dataset.from_tensor_slices((test['review'].values ,test['condition'].values ))"
      ],
      "metadata": {
        "id": "ezeml8S1XHmD"
      },
      "execution_count": 32,
      "outputs": []
    },
    {
      "cell_type": "code",
      "source": [
        "for text, target in train_tf.take(5):\n",
        "  print('Review: {} , Target:{}'.format(text , target))"
      ],
      "metadata": {
        "id": "o15YwNwgXHpU",
        "colab": {
          "base_uri": "https://localhost:8080/"
        },
        "outputId": "55f8d84a-9d68-455d-82db-0803aab5ac36"
      },
      "execution_count": 33,
      "outputs": [
        {
          "output_type": "stream",
          "name": "stdout",
          "text": [
            "Review: b'My partner and I were having sex when the condom accidently broke  It was the ##th day of my cycle so I was fertile As you can imagine I was terrified I took the pill ## hours later I was worried that it wasn###t taken soon enough But if you take it within ## hrs you###ll be fine I experienced lots of cramping and mood swings for 2 weeks I seriously thought I was pregnant I###m not ready for a child and sadly was contemplating abortion My period came on the day it was expected and I couldn###t be happeir to have my period I###m going on the BC pills so I never have to experience this Just relax amp take this pill ASAP as timing is crucial' , Target:b'Emergency Contraception'\n",
            "Review: b'I have used it for months now and it helps so much When my period comes around it somewhat helps but i###ll still get some acne and it clears up right after To me if i forget to put it on my face for one day it sucks' , Target:b'Acne'\n",
            "Review: b'Originally started as a means to treat cystic acne and alleviate period cramps Anxiety runs in my family but I###ve never had it severely until I started taking this birth control It###s been three months and a few days into the fourth pack and I###ve had enough I went from someone who###s never broken down about last minute assignments to someone who cries everyday for no discernible reason and can###t manage even the simplest classwork \\r\\r\\n\\r\\r\\nI also started off completely fine with my FWB but now I###ve become dependent and paranoid even though he###s one of my closest friends and I never had these issues before It###s like I###m a different person entirely and I hate it' , Target:b'Acne'\n",
            "Review: b'I had insomnia for months and was put on Seroquel XR for sleep It pretty much just drugged me and I hated it Popping limbs and anxiety over not being able to fall asleep was my problem But since changing my diet to a healthier lifestyle will be a year January #### and taking Temazepam ## mg since October #### I have felt the best sleep I have ever had I started taking at ## or ##pm so it would last through the night I usually wake up to go to bathroom at 4am or 5am and can###t go back to sleep so I will be asking my doctor if I can take 2 ## mg per night one before bed and one in the middle of the night  And from reading posts on here some people have taken for years This is the best most restful sleep I have ever had' , Target:b'Insomnia'\n",
            "Review: b'Made my hair fall out extremely bad I think this drug made my anxiety worse' , Target:b'Anxiety'\n"
          ]
        }
      ]
    },
    {
      "cell_type": "code",
      "source": [
        "codingdict = {}\n",
        "for i,name in enumerate(np.unique(data['condition'])):\n",
        "  codingdict[i] = name\n",
        "\n",
        "codingdict"
      ],
      "metadata": {
        "id": "rD-kuPqBXHs-",
        "colab": {
          "base_uri": "https://localhost:8080/"
        },
        "outputId": "7d222119-eb88-4b60-fcdb-0a9504991351"
      },
      "execution_count": 34,
      "outputs": [
        {
          "output_type": "execute_result",
          "data": {
            "text/plain": [
              "{0: 'ADHD',\n",
              " 1: 'Abnormal Uterine Bleeding',\n",
              " 2: 'Acne',\n",
              " 3: 'Anxiety',\n",
              " 4: 'Bipolar Disorde',\n",
              " 5: 'Birth Control',\n",
              " 6: 'Depression',\n",
              " 7: 'Diabetes, Type 2',\n",
              " 8: 'Emergency Contraception',\n",
              " 9: 'High Blood Pressure',\n",
              " 10: 'Insomnia',\n",
              " 11: 'Obesity',\n",
              " 12: 'Pain',\n",
              " 13: 'Vaginal Yeast Infection',\n",
              " 14: 'Weight Loss'}"
            ]
          },
          "metadata": {},
          "execution_count": 34
        }
      ]
    },
    {
      "cell_type": "code",
      "source": [
        "codingdict.values()"
      ],
      "metadata": {
        "id": "BDcmaWcuXHwF",
        "colab": {
          "base_uri": "https://localhost:8080/"
        },
        "outputId": "75fe5b9a-280c-4436-b5d8-8755ed68ccf7"
      },
      "execution_count": 35,
      "outputs": [
        {
          "output_type": "execute_result",
          "data": {
            "text/plain": [
              "dict_values(['ADHD', 'Abnormal Uterine Bleeding', 'Acne', 'Anxiety', 'Bipolar Disorde', 'Birth Control', 'Depression', 'Diabetes, Type 2', 'Emergency Contraception', 'High Blood Pressure', 'Insomnia', 'Obesity', 'Pain', 'Vaginal Yeast Infection', 'Weight Loss'])"
            ]
          },
          "metadata": {},
          "execution_count": 35
        }
      ]
    },
    {
      "cell_type": "markdown",
      "source": [
        "## One hot encoding of Tensorflow "
      ],
      "metadata": {
        "id": "UP0xukGItXCJ"
      }
    },
    {
      "cell_type": "code",
      "source": [
        "table = tf.lookup.StaticHashTable(\n",
        "          initializer = tf.lookup.KeyValueTensorInitializer(\n",
        "              keys = tf.constant(list(codingdict.values())),\n",
        "              values = tf.constant(list(codingdict.keys()))\n",
        "          ),\n",
        "          default_value=tf.constant(-1),\n",
        "          name = 'target_encoding'\n",
        " )\n",
        "\n",
        "@tf.function\n",
        "def target(x):\n",
        "    return table.lookup(x)"
      ],
      "metadata": {
        "id": "3ePuiy-YXHze"
      },
      "execution_count": 37,
      "outputs": []
    },
    {
      "cell_type": "code",
      "source": [
        "def show_batch(dataset , size=5):\n",
        "    for batch, label in dataset.take(size):\n",
        "        print(batch.numpy())\n",
        "        print(target(label).numpy())"
      ],
      "metadata": {
        "id": "fjdkbd0eXH3D"
      },
      "execution_count": 38,
      "outputs": []
    },
    {
      "cell_type": "code",
      "source": [
        "show_batch(train_tf, 6)"
      ],
      "metadata": {
        "id": "Wb54y5r-XwqC",
        "colab": {
          "base_uri": "https://localhost:8080/"
        },
        "outputId": "58f35a33-bcb1-4ace-b1af-7055659aa63e"
      },
      "execution_count": 39,
      "outputs": [
        {
          "output_type": "stream",
          "name": "stdout",
          "text": [
            "b'My partner and I were having sex when the condom accidently broke  It was the ##th day of my cycle so I was fertile As you can imagine I was terrified I took the pill ## hours later I was worried that it wasn###t taken soon enough But if you take it within ## hrs you###ll be fine I experienced lots of cramping and mood swings for 2 weeks I seriously thought I was pregnant I###m not ready for a child and sadly was contemplating abortion My period came on the day it was expected and I couldn###t be happeir to have my period I###m going on the BC pills so I never have to experience this Just relax amp take this pill ASAP as timing is crucial'\n",
            "8\n",
            "b'I have used it for months now and it helps so much When my period comes around it somewhat helps but i###ll still get some acne and it clears up right after To me if i forget to put it on my face for one day it sucks'\n",
            "2\n",
            "b'Originally started as a means to treat cystic acne and alleviate period cramps Anxiety runs in my family but I###ve never had it severely until I started taking this birth control It###s been three months and a few days into the fourth pack and I###ve had enough I went from someone who###s never broken down about last minute assignments to someone who cries everyday for no discernible reason and can###t manage even the simplest classwork \\r\\r\\n\\r\\r\\nI also started off completely fine with my FWB but now I###ve become dependent and paranoid even though he###s one of my closest friends and I never had these issues before It###s like I###m a different person entirely and I hate it'\n",
            "2\n",
            "b'I had insomnia for months and was put on Seroquel XR for sleep It pretty much just drugged me and I hated it Popping limbs and anxiety over not being able to fall asleep was my problem But since changing my diet to a healthier lifestyle will be a year January #### and taking Temazepam ## mg since October #### I have felt the best sleep I have ever had I started taking at ## or ##pm so it would last through the night I usually wake up to go to bathroom at 4am or 5am and can###t go back to sleep so I will be asking my doctor if I can take 2 ## mg per night one before bed and one in the middle of the night  And from reading posts on here some people have taken for years This is the best most restful sleep I have ever had'\n",
            "10\n",
            "b'Made my hair fall out extremely bad I think this drug made my anxiety worse'\n",
            "3\n",
            "b'This was the worst pill I###ve ever been on I had been happily taking another pill for almost a year with no side effects and it then got discontinued so I had to go on Larin for a month I was having migraines with aura anxiety I bled for ## days when I normally don###t have a period except for every 3 months and had nipple discharge as well as spontaneous nosebleeds I felt terrible on this pill I do not recommend'\n",
            "5\n"
          ]
        }
      ]
    },
    {
      "cell_type": "code",
      "source": [
        "def fetch(text , labels):\n",
        "  return text, tf.one_hot(target(labels),15)"
      ],
      "metadata": {
        "id": "z0ZrSOe4Xwte"
      },
      "execution_count": 40,
      "outputs": []
    },
    {
      "cell_type": "markdown",
      "source": [
        "### One hot encoding for the categorical data"
      ],
      "metadata": {
        "id": "TijDlaSTjOY5"
      }
    },
    {
      "cell_type": "code",
      "source": [
        "train_tf_d = train_tf.map(fetch)\n",
        "val_tf_d = val_tf.map(fetch)\n",
        "test_tf_d = test_tf.map(fetch)"
      ],
      "metadata": {
        "id": "4FR7nyTNXwwc"
      },
      "execution_count": 41,
      "outputs": []
    },
    {
      "cell_type": "code",
      "source": [
        "next(iter(train_tf_d))"
      ],
      "metadata": {
        "id": "nILooxjTXwzy",
        "colab": {
          "base_uri": "https://localhost:8080/"
        },
        "outputId": "67b64a80-74c3-43b8-a26b-bd5c529ec283"
      },
      "execution_count": 42,
      "outputs": [
        {
          "output_type": "execute_result",
          "data": {
            "text/plain": [
              "(<tf.Tensor: shape=(), dtype=string, numpy=b'My partner and I were having sex when the condom accidently broke  It was the ##th day of my cycle so I was fertile As you can imagine I was terrified I took the pill ## hours later I was worried that it wasn###t taken soon enough But if you take it within ## hrs you###ll be fine I experienced lots of cramping and mood swings for 2 weeks I seriously thought I was pregnant I###m not ready for a child and sadly was contemplating abortion My period came on the day it was expected and I couldn###t be happeir to have my period I###m going on the BC pills so I never have to experience this Just relax amp take this pill ASAP as timing is crucial'>,\n",
              " <tf.Tensor: shape=(15,), dtype=float32, numpy=\n",
              " array([0., 0., 0., 0., 0., 0., 0., 0., 1., 0., 0., 0., 0., 0., 0.],\n",
              "       dtype=float32)>)"
            ]
          },
          "metadata": {},
          "execution_count": 42
        }
      ]
    },
    {
      "cell_type": "code",
      "source": [
        "next(iter(val_tf_d))"
      ],
      "metadata": {
        "id": "iKGMqV9hXw3T",
        "colab": {
          "base_uri": "https://localhost:8080/"
        },
        "outputId": "4cd21202-2617-4afd-edb4-cf0982e7949a"
      },
      "execution_count": 43,
      "outputs": [
        {
          "output_type": "execute_result",
          "data": {
            "text/plain": [
              "(<tf.Tensor: shape=(), dtype=string, numpy=b'I have not seen Tresiba do much of anything I was on Lantus  ## units 2 sX daily along with Metformin ####mg 2 X daily and Victoza ## mg 1 X\\r\\nI switched from Lantus to Tresiba  ## units daily maintaining my other meds My morning readings sky rocketed from ##### to ### ### My diet stayed basically the same Over a period of 4 to 6 wks I increased the Tresiba slowly and am now up to ### units daily NO CHANGE  THIS IS CRAZY I###m going to try one more increase to ### units \\r\\nI had to stop Lantus bc my ins comp PPG  CVS Caremark decided not to cover Lantus'>,\n",
              " <tf.Tensor: shape=(15,), dtype=float32, numpy=\n",
              " array([0., 0., 0., 0., 0., 0., 0., 1., 0., 0., 0., 0., 0., 0., 0.],\n",
              "       dtype=float32)>)"
            ]
          },
          "metadata": {},
          "execution_count": 43
        }
      ]
    },
    {
      "cell_type": "code",
      "source": [
        "embedding = \"https://tfhub.dev/google/tf2-preview/nnlm-en-dim128/1\"\n",
        "hub_layer = hub.KerasLayer(embedding, output_shape=[128],\n",
        "                           input_shape=[],\n",
        "                           dtype=tf.string,\n",
        "                           trainable=True)"
      ],
      "metadata": {
        "id": "MxKgrDKtYT0w"
      },
      "execution_count": 45,
      "outputs": []
    },
    {
      "cell_type": "code",
      "source": [
        "hub_layer(data['review'][:1])"
      ],
      "metadata": {
        "id": "FS48Ot0uYT4G",
        "colab": {
          "base_uri": "https://localhost:8080/"
        },
        "outputId": "88f15c14-f971-4109-c511-c341fb164864"
      },
      "execution_count": 46,
      "outputs": [
        {
          "output_type": "execute_result",
          "data": {
            "text/plain": [
              "<tf.Tensor: shape=(1, 128), dtype=float32, numpy=\n",
              "array([[ 1.5133892 ,  0.07999716,  0.29871646,  0.36414957,  0.24160796,\n",
              "        -0.08852717,  0.15835421, -0.25982067, -0.0626125 , -0.04169567,\n",
              "        -0.06801581, -0.181201  , -0.46910337, -0.1842287 , -0.15460587,\n",
              "         0.0456545 , -0.36451405, -0.12149364, -0.29230863,  0.89406973,\n",
              "         0.37847653,  0.2828351 , -0.12116676, -0.12344071,  0.05992597,\n",
              "        -0.25840056,  0.27889144, -0.16702925, -0.09012706, -0.20788306,\n",
              "        -0.10982233, -0.15696152, -0.02768278,  0.11133204,  0.3190685 ,\n",
              "        -0.15354237, -0.11417083, -0.27576405, -0.0136132 ,  0.45100296,\n",
              "        -0.09535834,  0.09670243, -0.1725773 ,  0.03200236,  0.25426275,\n",
              "         0.38436976, -0.0767783 ,  0.18749246, -0.15769835, -0.02705142,\n",
              "         0.25925156, -0.04383401, -0.10911492,  0.07380773, -0.05865023,\n",
              "        -0.12705778, -0.42140114, -0.21514487,  0.23610839, -0.02249569,\n",
              "        -0.09979727,  0.10039151,  0.21512431, -0.27293   , -0.04744955,\n",
              "         0.08299679, -0.01516617, -0.4876289 ,  0.05597035,  0.08798745,\n",
              "        -0.27360874, -0.09317654, -0.05348748, -0.16044885, -0.28866574,\n",
              "         0.12827958, -0.04433398, -0.11806205, -0.04261313,  0.07243215,\n",
              "         0.2561509 , -0.15093504, -0.10686863,  0.04662423,  0.15262057,\n",
              "        -0.15430102, -0.3219857 ,  0.01286064,  1.3210292 ,  0.56686324,\n",
              "        -0.32699543, -0.07060885, -0.03208327, -0.05370029,  0.23158967,\n",
              "         0.09879222,  0.14409323, -0.15731838,  0.06661101, -0.14226466,\n",
              "         0.19526117, -0.07433737,  0.2484598 , -0.16454345, -0.06478497,\n",
              "        -0.11616973, -0.21692753, -0.02031942, -0.20952031,  0.2862182 ,\n",
              "        -0.56172657, -0.11789149, -0.19468951, -0.1559745 , -0.03741008,\n",
              "        -0.27055666,  0.00800542,  0.41874415, -0.19427724,  0.04422493,\n",
              "         0.2832855 , -0.2533726 ,  0.17616017,  0.1346284 ,  0.07018524,\n",
              "        -0.02045969,  0.07114438,  0.21945716]], dtype=float32)>"
            ]
          },
          "metadata": {},
          "execution_count": 46
        }
      ]
    },
    {
      "cell_type": "markdown",
      "source": [
        "## Tensorflow Keras Sequential model"
      ],
      "metadata": {
        "id": "cVDMROqFtkiv"
      }
    },
    {
      "cell_type": "code",
      "source": [
        "model = tf.keras.Sequential()\n",
        "model.add(hub_layer)\n",
        "for units in [128,128,64,32]:\n",
        "  model.add(tf.keras.layers.Dense(units , activation = 'relu'))\n",
        "  model.add(tf.keras.layers.Dropout(0.3))\n",
        "model.add(tf.keras.layers.Dense(15,activation='softmax')) "
      ],
      "metadata": {
        "id": "jaMPYqg8YT7w",
        "colab": {
          "base_uri": "https://localhost:8080/"
        },
        "outputId": "061525c4-3824-4fb8-b7c8-0947e33e32d1"
      },
      "execution_count": 47,
      "outputs": [
        {
          "output_type": "stream",
          "name": "stderr",
          "text": [
            "WARNING:tensorflow:From /usr/local/lib/python3.9/dist-packages/tensorflow/python/autograph/pyct/static_analysis/liveness.py:83: Analyzer.lamba_check (from tensorflow.python.autograph.pyct.static_analysis.liveness) is deprecated and will be removed after 2023-09-23.\n",
            "Instructions for updating:\n",
            "Lambda fuctions will be no more assumed to be used in the statement where they are used, or at least in the same block. https://github.com/tensorflow/tensorflow/issues/56089\n"
          ]
        }
      ]
    },
    {
      "cell_type": "code",
      "source": [
        "model.summary()"
      ],
      "metadata": {
        "id": "Ols5nStiYma3",
        "colab": {
          "base_uri": "https://localhost:8080/"
        },
        "outputId": "67157c16-3a28-4f4b-f616-d787b9ef176b"
      },
      "execution_count": 48,
      "outputs": [
        {
          "output_type": "stream",
          "name": "stdout",
          "text": [
            "Model: \"sequential\"\n",
            "_________________________________________________________________\n",
            " Layer (type)                Output Shape              Param #   \n",
            "=================================================================\n",
            " keras_layer (KerasLayer)    (None, 128)               124642688 \n",
            "                                                                 \n",
            " dense (Dense)               (None, 128)               16512     \n",
            "                                                                 \n",
            " dropout (Dropout)           (None, 128)               0         \n",
            "                                                                 \n",
            " dense_1 (Dense)             (None, 128)               16512     \n",
            "                                                                 \n",
            " dropout_1 (Dropout)         (None, 128)               0         \n",
            "                                                                 \n",
            " dense_2 (Dense)             (None, 64)                8256      \n",
            "                                                                 \n",
            " dropout_2 (Dropout)         (None, 64)                0         \n",
            "                                                                 \n",
            " dense_3 (Dense)             (None, 32)                2080      \n",
            "                                                                 \n",
            " dropout_3 (Dropout)         (None, 32)                0         \n",
            "                                                                 \n",
            " dense_4 (Dense)             (None, 15)                495       \n",
            "                                                                 \n",
            "=================================================================\n",
            "Total params: 124,686,543\n",
            "Trainable params: 124,686,543\n",
            "Non-trainable params: 0\n",
            "_________________________________________________________________\n"
          ]
        }
      ]
    },
    {
      "cell_type": "markdown",
      "source": [
        "#### Use the model categorical entropy "
      ],
      "metadata": {
        "id": "v-Ckm4citwfe"
      }
    },
    {
      "cell_type": "code",
      "source": [
        "model.compile(optimizer = 'adam',\n",
        "              loss = tf.keras.losses.CategoricalCrossentropy(from_logits=True),\n",
        "              metrics= ['accuracy'])"
      ],
      "metadata": {
        "id": "4HIIB7faYmdn"
      },
      "execution_count": 49,
      "outputs": []
    },
    {
      "cell_type": "code",
      "source": [
        "train_tf_d = train_tf_d.shuffle(70000).batch(512)\n",
        "val_tf_d = val_tf_d.batch(512)"
      ],
      "metadata": {
        "id": "PRDvVea2YmhP"
      },
      "execution_count": 50,
      "outputs": []
    },
    {
      "cell_type": "markdown",
      "source": [
        "## Training the model"
      ],
      "metadata": {
        "id": "2v-tjfbVt6N7"
      }
    },
    {
      "cell_type": "code",
      "source": [
        "history = model.fit(train_tf_d,\n",
        "                    epochs = 8,\n",
        "                    validation_data = val_tf_d,\n",
        "                    verbose=1,\n",
        "                    class_weight = weights)"
      ],
      "metadata": {
        "colab": {
          "base_uri": "https://localhost:8080/"
        },
        "id": "j9-UNm9AeNAK",
        "outputId": "7d9eec9d-9f43-4cc8-ba14-1a625b794b0c"
      },
      "execution_count": null,
      "outputs": [
        {
          "metadata": {
            "tags": null
          },
          "name": "stdout",
          "output_type": "stream",
          "text": [
            "Epoch 1/8\n"
          ]
        },
        {
          "metadata": {
            "tags": null
          },
          "name": "stderr",
          "output_type": "stream",
          "text": [
            "/usr/local/lib/python3.9/dist-packages/keras/backend.py:5534: UserWarning:\n",
            "\n",
            "\"`categorical_crossentropy` received `from_logits=True`, but the `output` argument was produced by a Softmax activation and thus does not represent logits. Was this intended?\n",
            "\n"
          ]
        },
        {
          "output_type": "stream",
          "name": "stdout",
          "text": [
            "179/179 [==============================] - 565s 3s/step - loss: 2.4861 - accuracy: 0.4617 - val_loss: 1.0572 - val_accuracy: 0.6466\n",
            "Epoch 2/8\n",
            "179/179 [==============================] - 565s 3s/step - loss: 1.2164 - accuracy: 0.6756 - val_loss: 0.7388 - val_accuracy: 0.7444\n",
            "Epoch 3/8\n",
            "179/179 [==============================] - 575s 3s/step - loss: 0.8586 - accuracy: 0.7487 - val_loss: 0.6383 - val_accuracy: 0.7769\n",
            "Epoch 4/8\n",
            "179/179 [==============================] - 575s 3s/step - loss: 0.6962 - accuracy: 0.7897 - val_loss: 0.5703 - val_accuracy: 0.8050\n",
            "Epoch 5/8\n",
            "179/179 [==============================] - 575s 3s/step - loss: 0.5905 - accuracy: 0.8195 - val_loss: 0.5380 - val_accuracy: 0.8233\n",
            "Epoch 6/8\n",
            "179/179 [==============================] - 574s 3s/step - loss: 0.5167 - accuracy: 0.8429 - val_loss: 0.5353 - val_accuracy: 0.8380\n",
            "Epoch 7/8\n",
            "179/179 [==============================] - 576s 3s/step - loss: 0.4596 - accuracy: 0.8661 - val_loss: 0.5149 - val_accuracy: 0.8547\n",
            "Epoch 8/8\n",
            "179/179 [==============================] - 564s 3s/step - loss: 0.4083 - accuracy: 0.8837 - val_loss: 0.4940 - val_accuracy: 0.8661\n"
          ]
        }
      ]
    },
    {
      "cell_type": "code",
      "source": [
        "len(test)"
      ],
      "metadata": {
        "colab": {
          "base_uri": "https://localhost:8080/"
        },
        "id": "Qv3A4pwYYx9p",
        "outputId": "40e84700-22be-434d-80c7-27d56a526b46"
      },
      "execution_count": null,
      "outputs": [
        {
          "data": {
            "text/plain": [
              "11431"
            ]
          },
          "execution_count": 69,
          "metadata": {},
          "output_type": "execute_result"
        }
      ]
    },
    {
      "cell_type": "code",
      "source": [
        "results = model.evaluate(test_tf_d.batch(11431) ,  verbose = 2)"
      ],
      "metadata": {
        "colab": {
          "base_uri": "https://localhost:8080/"
        },
        "id": "WkhLPDtnYyBJ",
        "outputId": "e56c0757-b092-4802-bd1c-5b1347bbdc44"
      },
      "execution_count": null,
      "outputs": [
        {
          "output_type": "stream",
          "name": "stdout",
          "text": [
            "1/1 - 1s - loss: 0.4977 - accuracy: 0.8689 - 1s/epoch - 1s/step\n"
          ]
        }
      ]
    },
    {
      "cell_type": "code",
      "source": [
        "test_data = test_tf_d.batch(11431)"
      ],
      "metadata": {
        "id": "jaoWMp8jZDqe"
      },
      "execution_count": null,
      "outputs": []
    },
    {
      "cell_type": "code",
      "source": [
        "y_preds = model.predict(test_data)"
      ],
      "metadata": {
        "colab": {
          "base_uri": "https://localhost:8080/"
        },
        "id": "y9lih_4_ZDt7",
        "outputId": "8c1d9087-2b8c-43a8-86cb-02f722b3dfa7"
      },
      "execution_count": null,
      "outputs": [
        {
          "output_type": "stream",
          "name": "stdout",
          "text": [
            "1/1 [==============================] - 1s 1s/step\n"
          ]
        }
      ]
    },
    {
      "cell_type": "code",
      "source": [
        "test_data , test_labels = next(iter(test_tf_d.batch(11431)))"
      ],
      "metadata": {
        "id": "YPzB189uZDxd"
      },
      "execution_count": null,
      "outputs": []
    },
    {
      "cell_type": "code",
      "source": [
        "from sklearn.metrics import classification_report"
      ],
      "metadata": {
        "id": "vkfz0QloYyE3"
      },
      "execution_count": null,
      "outputs": []
    },
    {
      "cell_type": "markdown",
      "source": [
        "## Classification report of the model "
      ],
      "metadata": {
        "id": "ZjHYzOk7jpDw"
      }
    },
    {
      "cell_type": "code",
      "source": [
        "print(classification_report(test_labels.numpy().argmax(axis=1) , y_preds.argmax(axis=1)))"
      ],
      "metadata": {
        "colab": {
          "base_uri": "https://localhost:8080/"
        },
        "id": "3QTt5_XAZZVl",
        "outputId": "4fd1a706-9352-40cf-ae39-b5c9ddcc0475"
      },
      "execution_count": null,
      "outputs": [
        {
          "output_type": "stream",
          "name": "stdout",
          "text": [
            "              precision    recall  f1-score   support\n",
            "\n",
            "           0       0.94      0.62      0.74       432\n",
            "           1       0.00      0.00      0.00       261\n",
            "           2       0.97      0.91      0.94       748\n",
            "           3       0.83      0.75      0.79       822\n",
            "           4       0.73      0.76      0.75       537\n",
            "           5       0.92      0.99      0.95      3823\n",
            "           6       0.80      0.89      0.84      1200\n",
            "           7       0.89      0.90      0.90       346\n",
            "           8       0.97      0.97      0.97       328\n",
            "           9       0.88      0.85      0.87       331\n",
            "          10       0.83      0.91      0.87       460\n",
            "          11       0.70      0.58      0.64       478\n",
            "          12       0.90      0.95      0.92       835\n",
            "          13       0.99      0.94      0.97       317\n",
            "          14       0.68      0.80      0.73       513\n",
            "\n",
            "    accuracy                           0.87     11431\n",
            "   macro avg       0.80      0.79      0.79     11431\n",
            "weighted avg       0.85      0.87      0.86     11431\n",
            "\n"
          ]
        },
        {
          "output_type": "stream",
          "name": "stderr",
          "text": [
            "/usr/local/lib/python3.9/dist-packages/sklearn/metrics/_classification.py:1344: UndefinedMetricWarning:\n",
            "\n",
            "Precision and F-score are ill-defined and being set to 0.0 in labels with no predicted samples. Use `zero_division` parameter to control this behavior.\n",
            "\n",
            "/usr/local/lib/python3.9/dist-packages/sklearn/metrics/_classification.py:1344: UndefinedMetricWarning:\n",
            "\n",
            "Precision and F-score are ill-defined and being set to 0.0 in labels with no predicted samples. Use `zero_division` parameter to control this behavior.\n",
            "\n",
            "/usr/local/lib/python3.9/dist-packages/sklearn/metrics/_classification.py:1344: UndefinedMetricWarning:\n",
            "\n",
            "Precision and F-score are ill-defined and being set to 0.0 in labels with no predicted samples. Use `zero_division` parameter to control this behavior.\n",
            "\n"
          ]
        }
      ]
    },
    {
      "cell_type": "markdown",
      "source": [
        "# 3. Sentiment Analysis of the model "
      ],
      "metadata": {
        "id": "2FK2bTgjuMT7"
      }
    },
    {
      "cell_type": "code",
      "source": [
        "df.head()"
      ],
      "metadata": {
        "colab": {
          "base_uri": "https://localhost:8080/",
          "height": 206
        },
        "id": "lDDWcr_xuMfd",
        "outputId": "e531b7bb-1cc1-4879-82ed-9d80202aff38"
      },
      "execution_count": 42,
      "outputs": [
        {
          "output_type": "execute_result",
          "data": {
            "text/plain": [
              "                   drugName                     condition  \\\n",
              "0                 Valsartan  Left Ventricular Dysfunction   \n",
              "1                Guanfacine                          ADHD   \n",
              "2                    Lybrel                 Birth Control   \n",
              "3                Ortho Evra                 Birth Control   \n",
              "4  Buprenorphine / naloxone             Opiate Dependence   \n",
              "\n",
              "                                              review  rating  \n",
              "0  It has no side effect I take it in combination...       9  \n",
              "1  My son is halfway through his fourth week of I...       8  \n",
              "2  I used to take another oral contraceptive whic...       5  \n",
              "3  This is my first time using any form of birth ...       8  \n",
              "4  Suboxone has completely turned my life around ...       9  "
            ],
            "text/html": [
              "\n",
              "  <div id=\"df-3d6d1f87-9096-411e-ad39-bc92bfaaac80\">\n",
              "    <div class=\"colab-df-container\">\n",
              "      <div>\n",
              "<style scoped>\n",
              "    .dataframe tbody tr th:only-of-type {\n",
              "        vertical-align: middle;\n",
              "    }\n",
              "\n",
              "    .dataframe tbody tr th {\n",
              "        vertical-align: top;\n",
              "    }\n",
              "\n",
              "    .dataframe thead th {\n",
              "        text-align: right;\n",
              "    }\n",
              "</style>\n",
              "<table border=\"1\" class=\"dataframe\">\n",
              "  <thead>\n",
              "    <tr style=\"text-align: right;\">\n",
              "      <th></th>\n",
              "      <th>drugName</th>\n",
              "      <th>condition</th>\n",
              "      <th>review</th>\n",
              "      <th>rating</th>\n",
              "    </tr>\n",
              "  </thead>\n",
              "  <tbody>\n",
              "    <tr>\n",
              "      <th>0</th>\n",
              "      <td>Valsartan</td>\n",
              "      <td>Left Ventricular Dysfunction</td>\n",
              "      <td>It has no side effect I take it in combination...</td>\n",
              "      <td>9</td>\n",
              "    </tr>\n",
              "    <tr>\n",
              "      <th>1</th>\n",
              "      <td>Guanfacine</td>\n",
              "      <td>ADHD</td>\n",
              "      <td>My son is halfway through his fourth week of I...</td>\n",
              "      <td>8</td>\n",
              "    </tr>\n",
              "    <tr>\n",
              "      <th>2</th>\n",
              "      <td>Lybrel</td>\n",
              "      <td>Birth Control</td>\n",
              "      <td>I used to take another oral contraceptive whic...</td>\n",
              "      <td>5</td>\n",
              "    </tr>\n",
              "    <tr>\n",
              "      <th>3</th>\n",
              "      <td>Ortho Evra</td>\n",
              "      <td>Birth Control</td>\n",
              "      <td>This is my first time using any form of birth ...</td>\n",
              "      <td>8</td>\n",
              "    </tr>\n",
              "    <tr>\n",
              "      <th>4</th>\n",
              "      <td>Buprenorphine / naloxone</td>\n",
              "      <td>Opiate Dependence</td>\n",
              "      <td>Suboxone has completely turned my life around ...</td>\n",
              "      <td>9</td>\n",
              "    </tr>\n",
              "  </tbody>\n",
              "</table>\n",
              "</div>\n",
              "      <button class=\"colab-df-convert\" onclick=\"convertToInteractive('df-3d6d1f87-9096-411e-ad39-bc92bfaaac80')\"\n",
              "              title=\"Convert this dataframe to an interactive table.\"\n",
              "              style=\"display:none;\">\n",
              "        \n",
              "  <svg xmlns=\"http://www.w3.org/2000/svg\" height=\"24px\"viewBox=\"0 0 24 24\"\n",
              "       width=\"24px\">\n",
              "    <path d=\"M0 0h24v24H0V0z\" fill=\"none\"/>\n",
              "    <path d=\"M18.56 5.44l.94 2.06.94-2.06 2.06-.94-2.06-.94-.94-2.06-.94 2.06-2.06.94zm-11 1L8.5 8.5l.94-2.06 2.06-.94-2.06-.94L8.5 2.5l-.94 2.06-2.06.94zm10 10l.94 2.06.94-2.06 2.06-.94-2.06-.94-.94-2.06-.94 2.06-2.06.94z\"/><path d=\"M17.41 7.96l-1.37-1.37c-.4-.4-.92-.59-1.43-.59-.52 0-1.04.2-1.43.59L10.3 9.45l-7.72 7.72c-.78.78-.78 2.05 0 2.83L4 21.41c.39.39.9.59 1.41.59.51 0 1.02-.2 1.41-.59l7.78-7.78 2.81-2.81c.8-.78.8-2.07 0-2.86zM5.41 20L4 18.59l7.72-7.72 1.47 1.35L5.41 20z\"/>\n",
              "  </svg>\n",
              "      </button>\n",
              "      \n",
              "  <style>\n",
              "    .colab-df-container {\n",
              "      display:flex;\n",
              "      flex-wrap:wrap;\n",
              "      gap: 12px;\n",
              "    }\n",
              "\n",
              "    .colab-df-convert {\n",
              "      background-color: #E8F0FE;\n",
              "      border: none;\n",
              "      border-radius: 50%;\n",
              "      cursor: pointer;\n",
              "      display: none;\n",
              "      fill: #1967D2;\n",
              "      height: 32px;\n",
              "      padding: 0 0 0 0;\n",
              "      width: 32px;\n",
              "    }\n",
              "\n",
              "    .colab-df-convert:hover {\n",
              "      background-color: #E2EBFA;\n",
              "      box-shadow: 0px 1px 2px rgba(60, 64, 67, 0.3), 0px 1px 3px 1px rgba(60, 64, 67, 0.15);\n",
              "      fill: #174EA6;\n",
              "    }\n",
              "\n",
              "    [theme=dark] .colab-df-convert {\n",
              "      background-color: #3B4455;\n",
              "      fill: #D2E3FC;\n",
              "    }\n",
              "\n",
              "    [theme=dark] .colab-df-convert:hover {\n",
              "      background-color: #434B5C;\n",
              "      box-shadow: 0px 1px 3px 1px rgba(0, 0, 0, 0.15);\n",
              "      filter: drop-shadow(0px 1px 2px rgba(0, 0, 0, 0.3));\n",
              "      fill: #FFFFFF;\n",
              "    }\n",
              "  </style>\n",
              "\n",
              "      <script>\n",
              "        const buttonEl =\n",
              "          document.querySelector('#df-3d6d1f87-9096-411e-ad39-bc92bfaaac80 button.colab-df-convert');\n",
              "        buttonEl.style.display =\n",
              "          google.colab.kernel.accessAllowed ? 'block' : 'none';\n",
              "\n",
              "        async function convertToInteractive(key) {\n",
              "          const element = document.querySelector('#df-3d6d1f87-9096-411e-ad39-bc92bfaaac80');\n",
              "          const dataTable =\n",
              "            await google.colab.kernel.invokeFunction('convertToInteractive',\n",
              "                                                     [key], {});\n",
              "          if (!dataTable) return;\n",
              "\n",
              "          const docLinkHtml = 'Like what you see? Visit the ' +\n",
              "            '<a target=\"_blank\" href=https://colab.research.google.com/notebooks/data_table.ipynb>data table notebook</a>'\n",
              "            + ' to learn more about interactive tables.';\n",
              "          element.innerHTML = '';\n",
              "          dataTable['output_type'] = 'display_data';\n",
              "          await google.colab.output.renderOutput(dataTable, element);\n",
              "          const docLink = document.createElement('div');\n",
              "          docLink.innerHTML = docLinkHtml;\n",
              "          element.appendChild(docLink);\n",
              "        }\n",
              "      </script>\n",
              "    </div>\n",
              "  </div>\n",
              "  "
            ]
          },
          "metadata": {},
          "execution_count": 42
        }
      ]
    },
    {
      "cell_type": "code",
      "source": [
        "data = df[['review','rating']]"
      ],
      "metadata": {
        "id": "6t6oqGZIuMjr"
      },
      "execution_count": 43,
      "outputs": []
    },
    {
      "cell_type": "markdown",
      "source": [
        "### Histogram of the rating"
      ],
      "metadata": {
        "id": "XS_psnUoA5Vt"
      }
    },
    {
      "cell_type": "code",
      "source": [
        "plt.hist(data.rating , bins=10)\n",
        "plt.title(\"Rating Histogram\")\n",
        "plt.ylabel('N')\n",
        "plt.xlabel('Points')\n",
        "plt.show()"
      ],
      "metadata": {
        "colab": {
          "base_uri": "https://localhost:8080/",
          "height": 295
        },
        "id": "ZUMQeFwiuMmn",
        "outputId": "b32f92f1-24ae-440f-83f7-b375c0d80292"
      },
      "execution_count": 44,
      "outputs": [
        {
          "output_type": "display_data",
          "data": {
            "text/plain": [
              "<Figure size 432x288 with 1 Axes>"
            ],
            "image/png": "[encoded data removed]"
          },
          "metadata": {
            "needs_background": "light"
          }
        }
      ]
    },
    {
      "cell_type": "markdown",
      "source": [
        "### Setting if patient rating is more than 6 then , he wil happy"
      ],
      "metadata": {
        "id": "uRIWQQAlA_6N"
      }
    },
    {
      "cell_type": "code",
      "source": [
        "def coding(x):\n",
        "  if x > 6:\n",
        "    return 1\n",
        "  else:\n",
        "    return 0   "
      ],
      "metadata": {
        "id": "AklnrAFnuMqV"
      },
      "execution_count": 45,
      "outputs": []
    },
    {
      "cell_type": "code",
      "source": [
        "data['label'] = data['rating'].apply(lambda x: coding(x))"
      ],
      "metadata": {
        "colab": {
          "base_uri": "https://localhost:8080/"
        },
        "id": "2pR2eJxauMtQ",
        "outputId": "fe068fce-763e-473e-c76b-4d1017470da0"
      },
      "execution_count": 46,
      "outputs": [
        {
          "output_type": "stream",
          "name": "stderr",
          "text": [
            "<ipython-input-46-81491385f11c>:1: SettingWithCopyWarning: \n",
            "A value is trying to be set on a copy of a slice from a DataFrame.\n",
            "Try using .loc[row_indexer,col_indexer] = value instead\n",
            "\n",
            "See the caveats in the documentation: https://pandas.pydata.org/pandas-docs/stable/user_guide/indexing.html#returning-a-view-versus-a-copy\n",
            "  data['label'] = data['rating'].apply(lambda x: coding(x))\n"
          ]
        }
      ]
    },
    {
      "cell_type": "code",
      "source": [
        "ready_data = data[['review' , 'label']]"
      ],
      "metadata": {
        "id": "GjW4dm00uMxA"
      },
      "execution_count": 47,
      "outputs": []
    },
    {
      "cell_type": "code",
      "source": [
        "ready_data.head()"
      ],
      "metadata": {
        "colab": {
          "base_uri": "https://localhost:8080/",
          "height": 206
        },
        "id": "ZHwgf9ntuM0f",
        "outputId": "24661b84-4e6d-4f3b-a726-fedfac526851"
      },
      "execution_count": 48,
      "outputs": [
        {
          "output_type": "execute_result",
          "data": {
            "text/plain": [
              "                                              review  label\n",
              "0  It has no side effect I take it in combination...      1\n",
              "1  My son is halfway through his fourth week of I...      1\n",
              "2  I used to take another oral contraceptive whic...      0\n",
              "3  This is my first time using any form of birth ...      1\n",
              "4  Suboxone has completely turned my life around ...      1"
            ],
            "text/html": [
              "\n",
              "  <div id=\"df-4afa680b-0f69-4450-a830-3d9861b02247\">\n",
              "    <div class=\"colab-df-container\">\n",
              "      <div>\n",
              "<style scoped>\n",
              "    .dataframe tbody tr th:only-of-type {\n",
              "        vertical-align: middle;\n",
              "    }\n",
              "\n",
              "    .dataframe tbody tr th {\n",
              "        vertical-align: top;\n",
              "    }\n",
              "\n",
              "    .dataframe thead th {\n",
              "        text-align: right;\n",
              "    }\n",
              "</style>\n",
              "<table border=\"1\" class=\"dataframe\">\n",
              "  <thead>\n",
              "    <tr style=\"text-align: right;\">\n",
              "      <th></th>\n",
              "      <th>review</th>\n",
              "      <th>label</th>\n",
              "    </tr>\n",
              "  </thead>\n",
              "  <tbody>\n",
              "    <tr>\n",
              "      <th>0</th>\n",
              "      <td>It has no side effect I take it in combination...</td>\n",
              "      <td>1</td>\n",
              "    </tr>\n",
              "    <tr>\n",
              "      <th>1</th>\n",
              "      <td>My son is halfway through his fourth week of I...</td>\n",
              "      <td>1</td>\n",
              "    </tr>\n",
              "    <tr>\n",
              "      <th>2</th>\n",
              "      <td>I used to take another oral contraceptive whic...</td>\n",
              "      <td>0</td>\n",
              "    </tr>\n",
              "    <tr>\n",
              "      <th>3</th>\n",
              "      <td>This is my first time using any form of birth ...</td>\n",
              "      <td>1</td>\n",
              "    </tr>\n",
              "    <tr>\n",
              "      <th>4</th>\n",
              "      <td>Suboxone has completely turned my life around ...</td>\n",
              "      <td>1</td>\n",
              "    </tr>\n",
              "  </tbody>\n",
              "</table>\n",
              "</div>\n",
              "      <button class=\"colab-df-convert\" onclick=\"convertToInteractive('df-4afa680b-0f69-4450-a830-3d9861b02247')\"\n",
              "              title=\"Convert this dataframe to an interactive table.\"\n",
              "              style=\"display:none;\">\n",
              "        \n",
              "  <svg xmlns=\"http://www.w3.org/2000/svg\" height=\"24px\"viewBox=\"0 0 24 24\"\n",
              "       width=\"24px\">\n",
              "    <path d=\"M0 0h24v24H0V0z\" fill=\"none\"/>\n",
              "    <path d=\"M18.56 5.44l.94 2.06.94-2.06 2.06-.94-2.06-.94-.94-2.06-.94 2.06-2.06.94zm-11 1L8.5 8.5l.94-2.06 2.06-.94-2.06-.94L8.5 2.5l-.94 2.06-2.06.94zm10 10l.94 2.06.94-2.06 2.06-.94-2.06-.94-.94-2.06-.94 2.06-2.06.94z\"/><path d=\"M17.41 7.96l-1.37-1.37c-.4-.4-.92-.59-1.43-.59-.52 0-1.04.2-1.43.59L10.3 9.45l-7.72 7.72c-.78.78-.78 2.05 0 2.83L4 21.41c.39.39.9.59 1.41.59.51 0 1.02-.2 1.41-.59l7.78-7.78 2.81-2.81c.8-.78.8-2.07 0-2.86zM5.41 20L4 18.59l7.72-7.72 1.47 1.35L5.41 20z\"/>\n",
              "  </svg>\n",
              "      </button>\n",
              "      \n",
              "  <style>\n",
              "    .colab-df-container {\n",
              "      display:flex;\n",
              "      flex-wrap:wrap;\n",
              "      gap: 12px;\n",
              "    }\n",
              "\n",
              "    .colab-df-convert {\n",
              "      background-color: #E8F0FE;\n",
              "      border: none;\n",
              "      border-radius: 50%;\n",
              "      cursor: pointer;\n",
              "      display: none;\n",
              "      fill: #1967D2;\n",
              "      height: 32px;\n",
              "      padding: 0 0 0 0;\n",
              "      width: 32px;\n",
              "    }\n",
              "\n",
              "    .colab-df-convert:hover {\n",
              "      background-color: #E2EBFA;\n",
              "      box-shadow: 0px 1px 2px rgba(60, 64, 67, 0.3), 0px 1px 3px 1px rgba(60, 64, 67, 0.15);\n",
              "      fill: #174EA6;\n",
              "    }\n",
              "\n",
              "    [theme=dark] .colab-df-convert {\n",
              "      background-color: #3B4455;\n",
              "      fill: #D2E3FC;\n",
              "    }\n",
              "\n",
              "    [theme=dark] .colab-df-convert:hover {\n",
              "      background-color: #434B5C;\n",
              "      box-shadow: 0px 1px 3px 1px rgba(0, 0, 0, 0.15);\n",
              "      filter: drop-shadow(0px 1px 2px rgba(0, 0, 0, 0.3));\n",
              "      fill: #FFFFFF;\n",
              "    }\n",
              "  </style>\n",
              "\n",
              "      <script>\n",
              "        const buttonEl =\n",
              "          document.querySelector('#df-4afa680b-0f69-4450-a830-3d9861b02247 button.colab-df-convert');\n",
              "        buttonEl.style.display =\n",
              "          google.colab.kernel.accessAllowed ? 'block' : 'none';\n",
              "\n",
              "        async function convertToInteractive(key) {\n",
              "          const element = document.querySelector('#df-4afa680b-0f69-4450-a830-3d9861b02247');\n",
              "          const dataTable =\n",
              "            await google.colab.kernel.invokeFunction('convertToInteractive',\n",
              "                                                     [key], {});\n",
              "          if (!dataTable) return;\n",
              "\n",
              "          const docLinkHtml = 'Like what you see? Visit the ' +\n",
              "            '<a target=\"_blank\" href=https://colab.research.google.com/notebooks/data_table.ipynb>data table notebook</a>'\n",
              "            + ' to learn more about interactive tables.';\n",
              "          element.innerHTML = '';\n",
              "          dataTable['output_type'] = 'display_data';\n",
              "          await google.colab.output.renderOutput(dataTable, element);\n",
              "          const docLink = document.createElement('div');\n",
              "          docLink.innerHTML = docLinkHtml;\n",
              "          element.appendChild(docLink);\n",
              "        }\n",
              "      </script>\n",
              "    </div>\n",
              "  </div>\n",
              "  "
            ]
          },
          "metadata": {},
          "execution_count": 48
        }
      ]
    },
    {
      "cell_type": "markdown",
      "source": [
        "## Function to converting the dataset to the tensors"
      ],
      "metadata": {
        "id": "eTDKvST5BOr7"
      }
    },
    {
      "cell_type": "code",
      "source": [
        "def df_to_dataset(dataframe, shuffle=True, batch_size=1024):\n",
        "  df = dataframe.copy()\n",
        "  labels = df.pop('label')\n",
        "  df = df[\"review\"]\n",
        "  ds = tf.data.Dataset.from_tensor_slices((df, labels))\n",
        "  if shuffle:\n",
        "    ds = ds.shuffle(buffer_size=len(dataframe))\n",
        "  ds = ds.batch(batch_size)\n",
        "  return ds"
      ],
      "metadata": {
        "id": "vz5Nz0znuM36"
      },
      "execution_count": 49,
      "outputs": []
    },
    {
      "cell_type": "code",
      "source": [
        "train, val , test = np.split(ready_data.sample(frac=1),[int(0.8 * len(ready_data)) , int(0.9 * len(ready_data))])"
      ],
      "metadata": {
        "id": "5e8GAVLguM7T"
      },
      "execution_count": 50,
      "outputs": []
    },
    {
      "cell_type": "markdown",
      "source": [
        "## Split the data into train , test, valid"
      ],
      "metadata": {
        "id": "eD4vl0UrBe8N"
      }
    },
    {
      "cell_type": "code",
      "source": [
        "train_data = df_to_dataset(train)\n",
        "valid_data = df_to_dataset(val)\n",
        "test_data = df_to_dataset(test)"
      ],
      "metadata": {
        "id": "EvtSx2VOuM-9"
      },
      "execution_count": 53,
      "outputs": []
    },
    {
      "cell_type": "code",
      "source": [
        "embedding = \"https://tfhub.dev/google/tf2-preview/nnlm-en-dim128/1\"\n",
        "hub_layer = hub.KerasLayer(embedding, output_shape=[128],\n",
        "                           input_shape=[],\n",
        "                           dtype=tf.string,\n",
        "                           trainable=True)\n",
        "\n"
      ],
      "metadata": {
        "id": "lQSAX9QxuNCm"
      },
      "execution_count": 54,
      "outputs": []
    },
    {
      "cell_type": "code",
      "source": [
        "hub_layer(data['review'][:1])"
      ],
      "metadata": {
        "colab": {
          "base_uri": "https://localhost:8080/"
        },
        "id": "mlkCdbP9vOlv",
        "outputId": "25b089bc-44ab-4893-a59a-3418ac093cab"
      },
      "execution_count": 55,
      "outputs": [
        {
          "output_type": "execute_result",
          "data": {
            "text/plain": [
              "<tf.Tensor: shape=(1, 128), dtype=float32, numpy=\n",
              "array([[ 0.3275196 , -0.2086498 ,  0.03962558, -0.00300192,  0.03782035,\n",
              "        -0.08031283,  0.0180529 , -0.03927071, -0.05095287, -0.0035451 ,\n",
              "         0.06973346,  0.01330936, -0.15950292, -0.02694239, -0.21094179,\n",
              "         0.012785  ,  0.04351325,  0.1609316 , -0.1039155 ,  0.09492093,\n",
              "         0.02695529, -0.07999464, -0.07682676, -0.03611556,  0.17488533,\n",
              "         0.0964494 ,  0.07596488, -0.07839283, -0.07818353, -0.15724126,\n",
              "         0.00043147, -0.11177187,  0.06034434, -0.01436157,  0.09693598,\n",
              "         0.04787712, -0.03946436,  0.01231825,  0.0804623 ,  0.01733095,\n",
              "        -0.00523767, -0.10327744, -0.11031353, -0.14665918,  0.11018986,\n",
              "        -0.04871843, -0.02977599,  0.22329238, -0.10126288,  0.16422161,\n",
              "         0.09508658,  0.05291295, -0.03291499,  0.10956962, -0.00186563,\n",
              "        -0.11530768, -0.09515128,  0.00054844,  0.15949555, -0.08205201,\n",
              "        -0.00740083, -0.00675188,  0.12643717, -0.23959766, -0.00111499,\n",
              "         0.08859192,  0.08581731, -0.04689541,  0.02514084,  0.00306423,\n",
              "        -0.11876512,  0.06201506, -0.0318962 , -0.08620735,  0.05689135,\n",
              "         0.06860508, -0.10167522, -0.05167976,  0.1313633 ,  0.21017551,\n",
              "         0.12025273,  0.03624706,  0.10827383, -0.06639455, -0.0851123 ,\n",
              "         0.11230432, -0.03284601, -0.01695291,  0.15987085,  0.0033043 ,\n",
              "        -0.18277249,  0.0204725 , -0.08761398, -0.21769854,  0.10401197,\n",
              "        -0.00727298, -0.00161877,  0.03970862, -0.11907364,  0.00282476,\n",
              "         0.01354892, -0.13858865,  0.06658923,  0.0663846 ,  0.14722933,\n",
              "         0.00451912, -0.17879215,  0.10458934, -0.05224362, -0.03670778,\n",
              "        -0.29904822,  0.01035444, -0.0598415 ,  0.01449303, -0.04423662,\n",
              "         0.12201253,  0.03892496,  0.01881548, -0.06548261,  0.03525716,\n",
              "        -0.01609608, -0.11494454,  0.13821048, -0.04378088, -0.01966926,\n",
              "        -0.02230626,  0.09934714, -0.0286085 ]], dtype=float32)>"
            ]
          },
          "metadata": {},
          "execution_count": 55
        }
      ]
    },
    {
      "cell_type": "markdown",
      "source": [
        "## Keras model for training "
      ],
      "metadata": {
        "id": "Net6zQHGBq0S"
      }
    },
    {
      "cell_type": "code",
      "source": [
        "model = tf.keras.Sequential()\n",
        "model.add(hub_layer)\n",
        "for units in [128,128,64,32]:\n",
        "  model.add(tf.keras.layers.Dense(units , activation = 'relu'))\n",
        "  model.add(tf.keras.layers.Dropout(0.5))\n",
        "model.add(tf.keras.layers.Dense(1,activation='sigmoid'))  "
      ],
      "metadata": {
        "id": "aK2EpktZvRGW"
      },
      "execution_count": 56,
      "outputs": []
    },
    {
      "cell_type": "code",
      "source": [
        "model.summary()"
      ],
      "metadata": {
        "colab": {
          "base_uri": "https://localhost:8080/"
        },
        "id": "cAAoEdyqvbWG",
        "outputId": "7f35bfe7-1f84-42c1-aa88-77c53d4322cc"
      },
      "execution_count": 57,
      "outputs": [
        {
          "output_type": "stream",
          "name": "stdout",
          "text": [
            "Model: \"sequential_4\"\n",
            "_________________________________________________________________\n",
            " Layer (type)                Output Shape              Param #   \n",
            "=================================================================\n",
            " keras_layer_1 (KerasLayer)  (None, 128)               124642688 \n",
            "                                                                 \n",
            " dense_20 (Dense)            (None, 128)               16512     \n",
            "                                                                 \n",
            " dropout_16 (Dropout)        (None, 128)               0         \n",
            "                                                                 \n",
            " dense_21 (Dense)            (None, 128)               16512     \n",
            "                                                                 \n",
            " dropout_17 (Dropout)        (None, 128)               0         \n",
            "                                                                 \n",
            " dense_22 (Dense)            (None, 64)                8256      \n",
            "                                                                 \n",
            " dropout_18 (Dropout)        (None, 64)                0         \n",
            "                                                                 \n",
            " dense_23 (Dense)            (None, 32)                2080      \n",
            "                                                                 \n",
            " dropout_19 (Dropout)        (None, 32)                0         \n",
            "                                                                 \n",
            " dense_24 (Dense)            (None, 1)                 33        \n",
            "                                                                 \n",
            "=================================================================\n",
            "Total params: 124,686,081\n",
            "Trainable params: 124,686,081\n",
            "Non-trainable params: 0\n",
            "_________________________________________________________________\n"
          ]
        }
      ]
    },
    {
      "cell_type": "code",
      "source": [
        "model.compile(optimizer=tf.keras.optimizers.Adam(learning_rate=0.001),\n",
        "              loss=tf.keras.losses.BinaryCrossentropy(),\n",
        "              metrics=['accuracy'])"
      ],
      "metadata": {
        "id": "s5RfR7CyvcpK"
      },
      "execution_count": 58,
      "outputs": []
    },
    {
      "cell_type": "code",
      "source": [
        "model.evaluate(train_data)"
      ],
      "metadata": {
        "colab": {
          "base_uri": "https://localhost:8080/"
        },
        "id": "nthVl8KFvfzM",
        "outputId": "f13b8d33-31dd-4a83-a9d3-601d2e227a0c"
      },
      "execution_count": 59,
      "outputs": [
        {
          "output_type": "stream",
          "name": "stdout",
          "text": [
            "168/168 [==============================] - 5s 25ms/step - loss: 0.6836 - accuracy: 0.6493\n"
          ]
        },
        {
          "output_type": "execute_result",
          "data": {
            "text/plain": [
              "[0.6836415529251099, 0.6493234634399414]"
            ]
          },
          "metadata": {},
          "execution_count": 59
        }
      ]
    },
    {
      "cell_type": "code",
      "source": [
        "model.evaluate(valid_data)"
      ],
      "metadata": {
        "colab": {
          "base_uri": "https://localhost:8080/"
        },
        "id": "zxIGPlHgvi-H",
        "outputId": "210b0d6c-1125-44be-909a-9c8ca023b09e"
      },
      "execution_count": 60,
      "outputs": [
        {
          "output_type": "stream",
          "name": "stdout",
          "text": [
            "21/21 [==============================] - 1s 23ms/step - loss: 0.6838 - accuracy: 0.6473\n"
          ]
        },
        {
          "output_type": "execute_result",
          "data": {
            "text/plain": [
              "[0.6838142275810242, 0.6472623348236084]"
            ]
          },
          "metadata": {},
          "execution_count": 60
        }
      ]
    },
    {
      "cell_type": "markdown",
      "source": [
        "## Model Learning "
      ],
      "metadata": {
        "id": "BFkQAq6WBz-Q"
      }
    },
    {
      "cell_type": "code",
      "source": [
        "history = model.fit(train_data, epochs=5, validation_data=valid_data)"
      ],
      "metadata": {
        "colab": {
          "base_uri": "https://localhost:8080/"
        },
        "id": "RMUo5yRlvm4I",
        "outputId": "4e21555d-4e58-4d77-d327-14b7d8cd2fe8"
      },
      "execution_count": 61,
      "outputs": [
        {
          "output_type": "stream",
          "name": "stdout",
          "text": [
            "Epoch 1/5\n",
            "168/168 [==============================] - 596s 4s/step - loss: 0.5151 - accuracy: 0.7436 - val_loss: 0.3790 - val_accuracy: 0.8307\n",
            "Epoch 2/5\n",
            "168/168 [==============================] - 553s 3s/step - loss: 0.3694 - accuracy: 0.8488 - val_loss: 0.3635 - val_accuracy: 0.8376\n",
            "Epoch 3/5\n",
            "168/168 [==============================] - 545s 3s/step - loss: 0.3185 - accuracy: 0.8717 - val_loss: 0.3404 - val_accuracy: 0.8538\n",
            "Epoch 4/5\n",
            "168/168 [==============================] - 546s 3s/step - loss: 0.2784 - accuracy: 0.8894 - val_loss: 0.3378 - val_accuracy: 0.8631\n",
            "Epoch 5/5\n",
            "168/168 [==============================] - 542s 3s/step - loss: 0.2396 - accuracy: 0.9072 - val_loss: 0.3294 - val_accuracy: 0.8763\n"
          ]
        }
      ]
    },
    {
      "cell_type": "code",
      "source": [
        "model.evaluate(test_data)"
      ],
      "metadata": {
        "colab": {
          "base_uri": "https://localhost:8080/"
        },
        "id": "KREefVU-vp7W",
        "outputId": "2b145585-838d-41e2-e7ab-3fe6cb77fe06"
      },
      "execution_count": 62,
      "outputs": [
        {
          "output_type": "stream",
          "name": "stdout",
          "text": [
            "21/21 [==============================] - 9s 449ms/step - loss: 0.3178 - accuracy: 0.8776\n"
          ]
        },
        {
          "output_type": "execute_result",
          "data": {
            "text/plain": [
              "[0.3177950084209442, 0.8775891661643982]"
            ]
          },
          "metadata": {},
          "execution_count": 62
        }
      ]
    },
    {
      "cell_type": "markdown",
      "source": [
        "# Conclusion :\n",
        "\n",
        "Prediction of the Rating :\n",
        "         Accuracy :  49.9%\n",
        "         MSE      :  5.3\n",
        "\n",
        "Prdiction of the Condition:\n",
        "        Accuracy : 87%\n",
        "\n",
        "Sentiment of Review :\n",
        "        Accuracy : 87.7%\n"
      ],
      "metadata": {
        "id": "ppgVJJ7wwPF-"
      }
    }
  ]
}